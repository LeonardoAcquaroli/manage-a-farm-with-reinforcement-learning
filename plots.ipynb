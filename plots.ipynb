{
 "cells": [
  {
   "cell_type": "code",
   "execution_count": null,
   "metadata": {},
   "outputs": [],
   "source": [
    "import numpy as np\n",
    "import torch\n",
    "import seaborn as sns\n",
    "import matplotlib.pyplot as plt\n",
    "import gymnasium as gym\n",
    "from source.algorithms import *\n",
    "import source.config as config\n",
    "import source.farm_env # Import necessary to register the gym environment"
   ]
  },
  {
   "cell_type": "code",
   "execution_count": null,
   "metadata": {},
   "outputs": [],
   "source": [
    "import numpy as np\n",
    "import math\n",
    "\n",
    "import matplotlib.pyplot as plt\n",
    "\n",
    "rewards = [-0.999, -0.989, 0.05, 0.06, 0.07, 0.08, 0.09, 0.1, 0.11, 0.12, 0.13, 0.14, 0.15, -0.8, 0.14, 0.145, 0.17, 0.185, 0.21, 0.205, -0.7, 0.21, 0.22, 0.23, 0.24, 0.25, 0.26, 0.27, -0.72, 0.05]\n",
    "\n",
    "gaussian_rewards = []\n",
    "sigma = 6\n",
    "\n",
    "for i, reward in enumerate(rewards):\n",
    "    reward = np.clip(reward, -0.999, 0.999)\n",
    "    std_reward = (reward - (-0.999)) / (0.999 - (-0.999))\n",
    "    scaled_reward = std_reward * (1 - -1) + -1\n",
    "    gaussian_modifier = math.exp(-((i+1) - 30)**2 / (2 * (sigma**2)))\n",
    "    gaussian_rewards.append(scaled_reward * gaussian_modifier)\n",
    "\n",
    "print(gaussian_rewards)\n",
    "\n",
    "plt.figure(figsize=(12, 8))\n",
    "plt.gca().spines['top'].set_visible(False)\n",
    "plt.gca().spines['right'].set_visible(False)\n",
    "plt.plot(range(len(gaussian_rewards)), gaussian_rewards, color='#acc700')\n",
    "plt.xlabel('Year', size=20)\n",
    "plt.ylabel('Gaussian Reward', size=20)\n",
    "\n",
    "# Add red text for negative rewards\n",
    "for i, reward in enumerate(rewards):\n",
    "    d, r, c = 1, 1, 0\n",
    "    if reward < 0:\n",
    "        if i == 1:\n",
    "            d, r = -0.7, 1.5\n",
    "        if i == 0:\n",
    "            c = 0.2\n",
    "        plt.text(i*r+c, gaussian_rewards[i] - 0.04 * d, \"Buy a sheep\", color='#ee5c59', size=10, ha='center')\n",
    "        plt.plot(i, gaussian_rewards[i], 'o', color='#ee5c59')  # Add red dot\n",
    "\n",
    "plt.show()\n"
   ]
  },
  {
   "cell_type": "code",
   "execution_count": null,
   "metadata": {},
   "outputs": [],
   "source": [
    "import numpy as np\n",
    "\n",
    "import matplotlib.pyplot as plt\n",
    "\n",
    "def gaussian(x, c, sigma):\n",
    "    return np.exp(-((x - c) / (np.sqrt(2) * sigma)) ** 2)\n",
    "\n",
    "def neg_gaussian(x, c, sigma):\n",
    "    return -gaussian(x, c, sigma)\n",
    "\n",
    "c = 30\n",
    "sigma = 6\n",
    "\n",
    "x = np.linspace(0, 60, 1000)\n",
    "y_positive = gaussian(x, c, sigma)\n",
    "y_negative = neg_gaussian(x, c, sigma)\n",
    "\n",
    "plt.figure(figsize=(8, 4))\n",
    "plt.plot(x, y_positive, color='#acc700', linewidth=2, label='Positive $\\Delta$')\n",
    "plt.plot(x, y_negative, color='#ee5c59', linewidth=2, label='Negative $\\Delta$')\n",
    "plt.title(f'Gaussian transformation ($\\mu$={c}, $\\sigma$={sigma})')\n",
    "plt.grid(False)\n",
    "plt.gca().spines['top'].set_visible(False)\n",
    "plt.gca().spines['right'].set_visible(False)\n",
    "plt.legend()\n",
    "plt.show()"
   ]
  },
  {
   "cell_type": "markdown",
   "metadata": {},
   "source": [
    "Correlation final sheep_count/budget"
   ]
  },
  {
   "cell_type": "code",
   "execution_count": null,
   "metadata": {},
   "outputs": [],
   "source": [
    "import source.config as config\n",
    "from source.algorithms import *\n",
    "from tqdm import tqdm\n",
    "import matplotlib.pyplot as plt\n",
    "import source.farm_env # Import necessary to register the gym environment"
   ]
  },
  {
   "cell_type": "code",
   "execution_count": null,
   "metadata": {},
   "outputs": [],
   "source": [
    "env = gym.make(id='FarmEnv-v0',\n",
    "                initial_budget = config.INITIAL_BUDGET,\n",
    "                sheep_cost = config.SHEEP_COST,\n",
    "                wheat_cost = config.WHEAT_COST,\n",
    "                wool_price = config.WOOL_PRICE,\n",
    "                wheat_price = config.WHEAT_PRICE,\n",
    "                max_years = config.MAX_YEARS,\n",
    "                wool_fixed_cost = config.WOOL_FIXED_COST,\n",
    "                storm_probability = config.STORM_PROBABILITY,\n",
    "                incest_penalty = config.INCEST_PENALTY,\n",
    "                reward_std = config.SIGMA\n",
    "                )"
   ]
  },
  {
   "cell_type": "code",
   "execution_count": null,
   "metadata": {},
   "outputs": [],
   "source": [
    "learning_rate = 0.001\n",
    "policy_learning_rate = 1e-4\n",
    "value_learning_rate = 1e-4\n",
    "n_episodes = 300_000\n",
    "start_epsilon = 1.0\n",
    "epsilon_decay = start_epsilon / (n_episodes)  # reduce the exploration over time\n",
    "final_epsilon = 0.1\n",
    "\n",
    "REINFORCE_agent = FarmAgentNeuralREINFORCEAdvantage(\n",
    "    environment=env, policy_learning_rate=policy_learning_rate, value_learning_rate=value_learning_rate, epsilon=start_epsilon, epsilon_decay=epsilon_decay, final_epsilon=final_epsilon, gamma=.999,\n",
    "    policy_net_weights_path=r'agent_models\\REINFORCENeuralAdvantage\\s6-penalty2.5-edecay1-g0.999\\policy_net_weights-500k.pth',\n",
    "    value_net_weights_path=r'agent_models\\REINFORCENeuralAdvantage\\s6-penalty2.5-edecay1-g0.999\\value_net_weights-500k.pth'\n",
    ")"
   ]
  },
  {
   "cell_type": "code",
   "execution_count": null,
   "metadata": {},
   "outputs": [],
   "source": [
    "def generate_trajectories(env, REINFORCE_agent, num_trajectories=50000, trajectory_length=30):\n",
    "    final_sheep_counts = []\n",
    "    final_budgets = []\n",
    "\n",
    "    for _ in tqdm(range(num_trajectories)):\n",
    "        state, info = env.reset()\n",
    "        for _ in range(trajectory_length):\n",
    "            action = REINFORCE_agent.policy(state, greedy=True)\n",
    "            s_prime, reward, terminated, truncated, info = env.step(action)\n",
    "            \n",
    "            if terminated or truncated:\n",
    "                break\n",
    "            else:\n",
    "                state = s_prime\n",
    "\n",
    "        final_sheep_counts.append(state['sheep_count'])\n",
    "        final_budgets.append(state['budget'])\n",
    "\n",
    "    return final_sheep_counts, final_budgets"
   ]
  },
  {
   "cell_type": "code",
   "execution_count": null,
   "metadata": {},
   "outputs": [],
   "source": [
    "# Generate trajectories\n",
    "final_sheep_counts, final_budgets = generate_trajectories(env, REINFORCE_agent)"
   ]
  },
  {
   "cell_type": "code",
   "execution_count": null,
   "metadata": {},
   "outputs": [],
   "source": [
    "# Create scatter plot\n",
    "plt.figure(figsize=(12, 8))\n",
    "plt.scatter(final_sheep_counts, final_budgets, alpha=0.1, color='#acc700')\n",
    "plt.xlabel('Final Sheep Count', size=20)\n",
    "plt.ylabel('Final Budget', size=20)\n",
    "# plt.title('Correlation between Final Sheep Count and Final Budget')\n",
    "\n",
    "\n",
    "# Add trend line\n",
    "z = np.polyfit(final_sheep_counts, final_budgets, 1)\n",
    "p = np.poly1d(z)\n",
    "plt.plot(final_sheep_counts, p(final_sheep_counts), \"--\", alpha=0.8, color='#ee5c59')\n",
    "plt.xlim(0, 100)\n",
    "plt.gca().spines['right'].set_visible(False)\n",
    "plt.gca().spines['top'].set_visible(False)\n",
    "\n",
    "################################################\n",
    "# CORRELATION\n",
    "# Calculate and display correlation coefficient\n",
    "correlation = np.corrcoef(final_sheep_counts, final_budgets)[0, 1]\n",
    "plt.text(0.05, 0.85, f'Correlation: {correlation:.2f}', transform=plt.gca().transAxes, size=30)\n",
    "\n",
    "plt.tight_layout()\n",
    "plt.savefig('media/REINFORCENeuralAdvantage/correlation_sheep_budget-500k-s612333345654321fbcvbzbbxc.png', dpi=300, bbox_inches='tight')\n",
    "plt.show()\n",
    "\n",
    "# Print summary statistics\n",
    "print(f\"Average final sheep count: {np.mean(final_sheep_counts):.2f}\")\n",
    "print(f\"Average final budget: {np.mean(final_budgets):.2f}\")\n",
    "print(f\"Correlation coefficient: {correlation:.2f}\")"
   ]
  }
 ],
 "metadata": {
  "kernelspec": {
   "display_name": "manage-a-farm-jQWtjN-A-py3.11",
   "language": "python",
   "name": "python3"
  },
  "language_info": {
   "codemirror_mode": {
    "name": "ipython",
    "version": 3
   },
   "file_extension": ".py",
   "mimetype": "text/x-python",
   "name": "python",
   "nbconvert_exporter": "python",
   "pygments_lexer": "ipython3",
   "version": "3.11.5"
  }
 },
 "nbformat": 4,
 "nbformat_minor": 2
}
