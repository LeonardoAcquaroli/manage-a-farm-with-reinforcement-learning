{
 "cells": [
  {
   "cell_type": "code",
   "execution_count": 1,
   "metadata": {},
   "outputs": [],
   "source": [
    "import gymnasium as gym\n",
    "import os\n",
    "import source.config as config\n",
    "from source.algorithms import *\n",
    "from tqdm import tqdm\n",
    "import numpy as np\n",
    "import matplotlib.pyplot as plt\n",
    "import seaborn as sns\n",
    "import source.farm_env # Import necessary to register the gym environment"
   ]
  },
  {
   "cell_type": "code",
   "execution_count": 2,
   "metadata": {},
   "outputs": [],
   "source": [
    "env = gym.make(id='FarmEnv-v0',\n",
    "                initial_budget = config.INITIAL_BUDGET,\n",
    "                sheep_cost = config.SHEEP_COST,\n",
    "                wheat_cost = config.WHEAT_COST,\n",
    "                wool_price = config.WOOL_PRICE,\n",
    "                wheat_price = config.WHEAT_PRICE,\n",
    "                max_years = config.MAX_YEARS,\n",
    "                wool_fixed_cost = config.WOOL_FIXED_COST,\n",
    "                storm_probability = config.STORM_PROBABILITY,\n",
    "                incest_penalty = config.INCEST_PENALTY,\n",
    "                reward_std = config.SIGMA\n",
    "                )"
   ]
  },
  {
   "cell_type": "code",
   "execution_count": 3,
   "metadata": {},
   "outputs": [],
   "source": [
    "def conv(a, win=100):\n",
    "    return np.convolve(a, np.ones(win), mode='same') / win"
   ]
  },
  {
   "cell_type": "code",
   "execution_count": 4,
   "metadata": {},
   "outputs": [
    {
     "name": "stderr",
     "output_type": "stream",
     "text": [
      "c:\\Users\\leoac\\AppData\\Local\\pypoetry\\Cache\\virtualenvs\\manage-a-farm-jQWtjN-A-py3.11\\Lib\\site-packages\\gymnasium\\utils\\passive_env_checker.py:131: UserWarning: \u001b[33mWARN: The obs returned by the `reset()` method was expecting a numpy array, actual type: <class 'int'>\u001b[0m\n",
      "  logger.warn(\n",
      "c:\\Users\\leoac\\AppData\\Local\\pypoetry\\Cache\\virtualenvs\\manage-a-farm-jQWtjN-A-py3.11\\Lib\\site-packages\\gymnasium\\spaces\\box.py:240: UserWarning: \u001b[33mWARN: Casting input x to numpy array.\u001b[0m\n",
      "  gym.logger.warn(\"Casting input x to numpy array.\")\n",
      "c:\\Users\\leoac\\AppData\\Local\\pypoetry\\Cache\\virtualenvs\\manage-a-farm-jQWtjN-A-py3.11\\Lib\\site-packages\\gymnasium\\utils\\passive_env_checker.py:159: UserWarning: \u001b[33mWARN: The obs returned by the `reset()` method is not within the observation space.\u001b[0m\n",
      "  logger.warn(f\"{pre} is not within the observation space.\")\n"
     ]
    }
   ],
   "source": [
    "learning_rate = 0.001\n",
    "policy_learning_rate = 1e-4\n",
    "value_learning_rate = 1e-4\n",
    "n_episodes = 500_000\n",
    "start_epsilon = 1.0\n",
    "epsilon_decay = start_epsilon / (n_episodes)  # reduce the exploration over time\n",
    "final_epsilon = 0.1\n",
    "\n",
    "REINFORCE_agent = FarmAgentNeuralREINFORCEAdvantage(\n",
    "    environment=env, policy_learning_rate=policy_learning_rate, value_learning_rate=value_learning_rate, epsilon=start_epsilon, epsilon_decay=epsilon_decay, final_epsilon=final_epsilon, gamma=.999,\n",
    "    # policy_net_weights_path='agent_models/policy_net_weights.pth', value_net_weights_path='agent_models/value_net_weights.pth'\n",
    ")\n",
    "\n",
    "MC_vfa_agent = FarmAgentMCVFA(\n",
    "    environment=env, learning_rate=learning_rate, epsilon=start_epsilon, epsilon_decay=epsilon_decay, final_epsilon=final_epsilon, gamma=.999\n",
    ")\n",
    "\n",
    "SARSA_vfa_agent = FarmAgentSarsaVFA(\n",
    "    environment=env, learning_rate=learning_rate, epsilon=start_epsilon, epsilon_decay=epsilon_decay, final_epsilon=final_epsilon, gamma=.95\n",
    ")"
   ]
  },
  {
   "cell_type": "markdown",
   "metadata": {},
   "source": [
    "# REINFORCE"
   ]
  },
  {
   "cell_type": "code",
   "execution_count": 5,
   "metadata": {},
   "outputs": [
    {
     "name": "stderr",
     "output_type": "stream",
     "text": [
      "  0%|          | 0/500000 [00:00<?, ?it/s]c:\\Users\\leoac\\AppData\\Local\\pypoetry\\Cache\\virtualenvs\\manage-a-farm-jQWtjN-A-py3.11\\Lib\\site-packages\\gymnasium\\utils\\passive_env_checker.py:131: UserWarning: \u001b[33mWARN: The obs returned by the `step()` method was expecting a numpy array, actual type: <class 'float'>\u001b[0m\n",
      "  logger.warn(\n",
      "c:\\Users\\leoac\\AppData\\Local\\pypoetry\\Cache\\virtualenvs\\manage-a-farm-jQWtjN-A-py3.11\\Lib\\site-packages\\gymnasium\\spaces\\box.py:240: UserWarning: \u001b[33mWARN: Casting input x to numpy array.\u001b[0m\n",
      "  gym.logger.warn(\"Casting input x to numpy array.\")\n",
      "c:\\Users\\leoac\\AppData\\Local\\pypoetry\\Cache\\virtualenvs\\manage-a-farm-jQWtjN-A-py3.11\\Lib\\site-packages\\gymnasium\\utils\\passive_env_checker.py:159: UserWarning: \u001b[33mWARN: The obs returned by the `step()` method is not within the observation space.\u001b[0m\n",
      "  logger.warn(f\"{pre} is not within the observation space.\")\n",
      "c:\\Users\\leoac\\AppData\\Local\\pypoetry\\Cache\\virtualenvs\\manage-a-farm-jQWtjN-A-py3.11\\Lib\\site-packages\\gymnasium\\utils\\passive_env_checker.py:131: UserWarning: \u001b[33mWARN: The obs returned by the `step()` method was expecting a numpy array, actual type: <class 'int'>\u001b[0m\n",
      "  logger.warn(\n",
      "c:\\Users\\leoac\\OneDrive - Università degli Studi di Milano\\Unimi\\Subjects\\2nd_year\\02_quarter\\RL\\Project\\manage-a-farm-with-reinforcement-learning\\source\\algorithms.py:364: UserWarning: Creating a tensor from a list of numpy.ndarrays is extremely slow. Please consider converting the list to a single numpy.ndarray with numpy.array() before converting to a tensor. (Triggered internally at C:\\actions-runner\\_work\\pytorch\\pytorch\\builder\\windows\\pytorch\\torch\\csrc\\utils\\tensor_new.cpp:281.)\n",
      "  normalized_states = torch.FloatTensor([self.normalize_state(s) for s in states])\n",
      "  0%|          | 18/500000 [00:00<1:20:27, 103.57it/s]"
     ]
    },
    {
     "name": "stdout",
     "output_type": "stream",
     "text": [
      "Episode 0, Average Budget: 1.51\n"
     ]
    },
    {
     "name": "stderr",
     "output_type": "stream",
     "text": [
      "  2%|▏         | 10013/500000 [01:04<1:03:54, 127.80it/s]"
     ]
    },
    {
     "name": "stdout",
     "output_type": "stream",
     "text": [
      "Episode 10000, Average Budget: 1.58\n"
     ]
    },
    {
     "name": "stderr",
     "output_type": "stream",
     "text": [
      "  4%|▍         | 20031/500000 [02:03<45:44, 174.87it/s]  "
     ]
    },
    {
     "name": "stdout",
     "output_type": "stream",
     "text": [
      "Episode 20000, Average Budget: 1.58\n"
     ]
    },
    {
     "name": "stderr",
     "output_type": "stream",
     "text": [
      "  6%|▌         | 30021/500000 [03:02<53:10, 147.32it/s]  "
     ]
    },
    {
     "name": "stdout",
     "output_type": "stream",
     "text": [
      "Episode 30000, Average Budget: 1.59\n"
     ]
    },
    {
     "name": "stderr",
     "output_type": "stream",
     "text": [
      "  8%|▊         | 40029/500000 [04:03<45:40, 167.82it/s]  "
     ]
    },
    {
     "name": "stdout",
     "output_type": "stream",
     "text": [
      "Episode 40000, Average Budget: 1.62\n"
     ]
    },
    {
     "name": "stderr",
     "output_type": "stream",
     "text": [
      " 10%|█         | 50029/500000 [05:06<41:28, 180.81it/s]  "
     ]
    },
    {
     "name": "stdout",
     "output_type": "stream",
     "text": [
      "Episode 50000, Average Budget: 1.64\n"
     ]
    },
    {
     "name": "stderr",
     "output_type": "stream",
     "text": [
      " 12%|█▏        | 60007/500000 [07:17<2:02:56, 59.64it/s]  "
     ]
    },
    {
     "name": "stdout",
     "output_type": "stream",
     "text": [
      "Episode 60000, Average Budget: 1.67\n"
     ]
    },
    {
     "name": "stderr",
     "output_type": "stream",
     "text": [
      " 14%|█▍        | 70010/500000 [10:13<1:59:23, 60.02it/s]"
     ]
    },
    {
     "name": "stdout",
     "output_type": "stream",
     "text": [
      "Episode 70000, Average Budget: 1.66\n"
     ]
    },
    {
     "name": "stderr",
     "output_type": "stream",
     "text": [
      " 16%|█▌        | 80008/500000 [13:12<2:00:36, 58.04it/s]"
     ]
    },
    {
     "name": "stdout",
     "output_type": "stream",
     "text": [
      "Episode 80000, Average Budget: 1.70\n"
     ]
    },
    {
     "name": "stderr",
     "output_type": "stream",
     "text": [
      " 18%|█▊        | 90006/500000 [16:15<2:01:25, 56.27it/s]"
     ]
    },
    {
     "name": "stdout",
     "output_type": "stream",
     "text": [
      "Episode 90000, Average Budget: 1.71\n"
     ]
    },
    {
     "name": "stderr",
     "output_type": "stream",
     "text": [
      " 20%|██        | 100006/500000 [19:59<2:02:03, 54.62it/s]"
     ]
    },
    {
     "name": "stdout",
     "output_type": "stream",
     "text": [
      "Episode 100000, Average Budget: 1.71\n"
     ]
    },
    {
     "name": "stderr",
     "output_type": "stream",
     "text": [
      " 22%|██▏       | 110005/500000 [23:19<5:07:46, 21.12it/s]"
     ]
    },
    {
     "name": "stdout",
     "output_type": "stream",
     "text": [
      "Episode 110000, Average Budget: 1.72\n"
     ]
    },
    {
     "name": "stderr",
     "output_type": "stream",
     "text": [
      " 24%|██▍       | 120009/500000 [26:00<1:41:36, 62.33it/s]"
     ]
    },
    {
     "name": "stdout",
     "output_type": "stream",
     "text": [
      "Episode 120000, Average Budget: 1.79\n"
     ]
    },
    {
     "name": "stderr",
     "output_type": "stream",
     "text": [
      " 26%|██▌       | 130010/500000 [28:38<1:51:26, 55.34it/s]"
     ]
    },
    {
     "name": "stdout",
     "output_type": "stream",
     "text": [
      "Episode 130000, Average Budget: 1.75\n"
     ]
    },
    {
     "name": "stderr",
     "output_type": "stream",
     "text": [
      " 28%|██▊       | 140011/500000 [30:33<57:26, 104.44it/s]  "
     ]
    },
    {
     "name": "stdout",
     "output_type": "stream",
     "text": [
      "Episode 140000, Average Budget: 1.80\n"
     ]
    },
    {
     "name": "stderr",
     "output_type": "stream",
     "text": [
      " 30%|███       | 150016/500000 [32:24<1:01:54, 94.23it/s]"
     ]
    },
    {
     "name": "stdout",
     "output_type": "stream",
     "text": [
      "Episode 150000, Average Budget: 1.82\n"
     ]
    },
    {
     "name": "stderr",
     "output_type": "stream",
     "text": [
      " 32%|███▏      | 160010/500000 [34:10<1:02:29, 90.67it/s]"
     ]
    },
    {
     "name": "stdout",
     "output_type": "stream",
     "text": [
      "Episode 160000, Average Budget: 1.84\n"
     ]
    },
    {
     "name": "stderr",
     "output_type": "stream",
     "text": [
      " 34%|███▍      | 170021/500000 [35:58<55:23, 99.28it/s]  "
     ]
    },
    {
     "name": "stdout",
     "output_type": "stream",
     "text": [
      "Episode 170000, Average Budget: 1.86\n"
     ]
    },
    {
     "name": "stderr",
     "output_type": "stream",
     "text": [
      " 36%|███▌      | 180020/500000 [37:46<50:50, 104.89it/s] "
     ]
    },
    {
     "name": "stdout",
     "output_type": "stream",
     "text": [
      "Episode 180000, Average Budget: 1.90\n"
     ]
    },
    {
     "name": "stderr",
     "output_type": "stream",
     "text": [
      " 38%|███▊      | 190026/500000 [39:13<36:02, 143.34it/s] "
     ]
    },
    {
     "name": "stdout",
     "output_type": "stream",
     "text": [
      "Episode 190000, Average Budget: 1.91\n"
     ]
    },
    {
     "name": "stderr",
     "output_type": "stream",
     "text": [
      " 40%|████      | 200029/500000 [40:25<36:24, 137.33it/s]"
     ]
    },
    {
     "name": "stdout",
     "output_type": "stream",
     "text": [
      "Episode 200000, Average Budget: 1.95\n"
     ]
    },
    {
     "name": "stderr",
     "output_type": "stream",
     "text": [
      " 42%|████▏     | 210015/500000 [41:40<32:43, 147.72it/s] "
     ]
    },
    {
     "name": "stdout",
     "output_type": "stream",
     "text": [
      "Episode 210000, Average Budget: 1.96\n"
     ]
    },
    {
     "name": "stderr",
     "output_type": "stream",
     "text": [
      " 44%|████▍     | 220023/500000 [42:51<31:39, 147.40it/s]"
     ]
    },
    {
     "name": "stdout",
     "output_type": "stream",
     "text": [
      "Episode 220000, Average Budget: 1.94\n"
     ]
    },
    {
     "name": "stderr",
     "output_type": "stream",
     "text": [
      " 46%|████▌     | 230020/500000 [44:05<32:25, 138.80it/s]"
     ]
    },
    {
     "name": "stdout",
     "output_type": "stream",
     "text": [
      "Episode 230000, Average Budget: 2.02\n"
     ]
    },
    {
     "name": "stderr",
     "output_type": "stream",
     "text": [
      " 48%|████▊     | 240022/500000 [45:19<32:55, 131.62it/s]"
     ]
    },
    {
     "name": "stdout",
     "output_type": "stream",
     "text": [
      "Episode 240000, Average Budget: 2.09\n"
     ]
    },
    {
     "name": "stderr",
     "output_type": "stream",
     "text": [
      " 50%|█████     | 250017/500000 [46:33<30:27, 136.78it/s]"
     ]
    },
    {
     "name": "stdout",
     "output_type": "stream",
     "text": [
      "Episode 250000, Average Budget: 2.08\n"
     ]
    },
    {
     "name": "stderr",
     "output_type": "stream",
     "text": [
      " 52%|█████▏    | 260014/500000 [47:49<28:42, 139.34it/s]"
     ]
    },
    {
     "name": "stdout",
     "output_type": "stream",
     "text": [
      "Episode 260000, Average Budget: 2.09\n"
     ]
    },
    {
     "name": "stderr",
     "output_type": "stream",
     "text": [
      " 54%|█████▍    | 270024/500000 [49:08<29:34, 129.61it/s]"
     ]
    },
    {
     "name": "stdout",
     "output_type": "stream",
     "text": [
      "Episode 270000, Average Budget: 2.05\n"
     ]
    },
    {
     "name": "stderr",
     "output_type": "stream",
     "text": [
      " 56%|█████▌    | 280027/500000 [50:26<31:05, 117.90it/s]"
     ]
    },
    {
     "name": "stdout",
     "output_type": "stream",
     "text": [
      "Episode 280000, Average Budget: 2.13\n"
     ]
    },
    {
     "name": "stderr",
     "output_type": "stream",
     "text": [
      " 58%|█████▊    | 290024/500000 [51:53<23:29, 148.97it/s] "
     ]
    },
    {
     "name": "stdout",
     "output_type": "stream",
     "text": [
      "Episode 290000, Average Budget: 2.19\n"
     ]
    },
    {
     "name": "stderr",
     "output_type": "stream",
     "text": [
      " 60%|██████    | 300022/500000 [53:00<20:44, 160.65it/s]"
     ]
    },
    {
     "name": "stdout",
     "output_type": "stream",
     "text": [
      "Episode 300000, Average Budget: 2.24\n"
     ]
    },
    {
     "name": "stderr",
     "output_type": "stream",
     "text": [
      " 62%|██████▏   | 310025/500000 [54:10<22:12, 142.56it/s]"
     ]
    },
    {
     "name": "stdout",
     "output_type": "stream",
     "text": [
      "Episode 310000, Average Budget: 2.33\n"
     ]
    },
    {
     "name": "stderr",
     "output_type": "stream",
     "text": [
      " 64%|██████▍   | 320023/500000 [55:22<22:47, 131.63it/s]"
     ]
    },
    {
     "name": "stdout",
     "output_type": "stream",
     "text": [
      "Episode 320000, Average Budget: 2.36\n"
     ]
    },
    {
     "name": "stderr",
     "output_type": "stream",
     "text": [
      " 66%|██████▌   | 330016/500000 [56:38<22:06, 128.19it/s]"
     ]
    },
    {
     "name": "stdout",
     "output_type": "stream",
     "text": [
      "Episode 330000, Average Budget: 2.41\n"
     ]
    },
    {
     "name": "stderr",
     "output_type": "stream",
     "text": [
      " 68%|██████▊   | 340023/500000 [57:56<21:08, 126.15it/s]"
     ]
    },
    {
     "name": "stdout",
     "output_type": "stream",
     "text": [
      "Episode 340000, Average Budget: 2.47\n"
     ]
    },
    {
     "name": "stderr",
     "output_type": "stream",
     "text": [
      " 70%|███████   | 350014/500000 [59:20<22:57, 108.90it/s]"
     ]
    },
    {
     "name": "stdout",
     "output_type": "stream",
     "text": [
      "Episode 350000, Average Budget: 2.54\n"
     ]
    },
    {
     "name": "stderr",
     "output_type": "stream",
     "text": [
      " 72%|███████▏  | 360018/500000 [1:00:44<19:10, 121.62it/s]"
     ]
    },
    {
     "name": "stdout",
     "output_type": "stream",
     "text": [
      "Episode 360000, Average Budget: 2.61\n"
     ]
    },
    {
     "name": "stderr",
     "output_type": "stream",
     "text": [
      " 74%|███████▍  | 370019/500000 [1:02:09<18:24, 117.64it/s]"
     ]
    },
    {
     "name": "stdout",
     "output_type": "stream",
     "text": [
      "Episode 370000, Average Budget: 2.64\n"
     ]
    },
    {
     "name": "stderr",
     "output_type": "stream",
     "text": [
      " 76%|███████▌  | 380011/500000 [1:03:34<16:43, 119.55it/s]"
     ]
    },
    {
     "name": "stdout",
     "output_type": "stream",
     "text": [
      "Episode 380000, Average Budget: 2.71\n"
     ]
    },
    {
     "name": "stderr",
     "output_type": "stream",
     "text": [
      " 78%|███████▊  | 390022/500000 [1:04:59<14:30, 126.35it/s]"
     ]
    },
    {
     "name": "stdout",
     "output_type": "stream",
     "text": [
      "Episode 390000, Average Budget: 2.78\n"
     ]
    },
    {
     "name": "stderr",
     "output_type": "stream",
     "text": [
      " 80%|████████  | 400021/500000 [1:06:25<15:09, 109.96it/s]"
     ]
    },
    {
     "name": "stdout",
     "output_type": "stream",
     "text": [
      "Episode 400000, Average Budget: 2.82\n"
     ]
    },
    {
     "name": "stderr",
     "output_type": "stream",
     "text": [
      " 82%|████████▏ | 410020/500000 [1:07:58<14:59, 100.05it/s]"
     ]
    },
    {
     "name": "stdout",
     "output_type": "stream",
     "text": [
      "Episode 410000, Average Budget: 2.86\n"
     ]
    },
    {
     "name": "stderr",
     "output_type": "stream",
     "text": [
      " 84%|████████▍ | 420009/500000 [1:09:36<12:59, 102.56it/s]"
     ]
    },
    {
     "name": "stdout",
     "output_type": "stream",
     "text": [
      "Episode 420000, Average Budget: 2.95\n"
     ]
    },
    {
     "name": "stderr",
     "output_type": "stream",
     "text": [
      " 86%|████████▌ | 430012/500000 [1:11:16<10:33, 110.50it/s]"
     ]
    },
    {
     "name": "stdout",
     "output_type": "stream",
     "text": [
      "Episode 430000, Average Budget: 3.02\n"
     ]
    },
    {
     "name": "stderr",
     "output_type": "stream",
     "text": [
      " 88%|████████▊ | 440018/500000 [1:12:45<08:25, 118.65it/s]"
     ]
    },
    {
     "name": "stdout",
     "output_type": "stream",
     "text": [
      "Episode 440000, Average Budget: 3.08\n"
     ]
    },
    {
     "name": "stderr",
     "output_type": "stream",
     "text": [
      " 90%|█████████ | 450016/500000 [1:14:13<07:15, 114.69it/s]"
     ]
    },
    {
     "name": "stdout",
     "output_type": "stream",
     "text": [
      "Episode 450000, Average Budget: 3.15\n"
     ]
    },
    {
     "name": "stderr",
     "output_type": "stream",
     "text": [
      " 92%|█████████▏| 460013/500000 [1:15:42<05:55, 112.64it/s]"
     ]
    },
    {
     "name": "stdout",
     "output_type": "stream",
     "text": [
      "Episode 460000, Average Budget: 3.19\n"
     ]
    },
    {
     "name": "stderr",
     "output_type": "stream",
     "text": [
      " 94%|█████████▍| 470012/500000 [1:17:13<04:11, 119.02it/s]"
     ]
    },
    {
     "name": "stdout",
     "output_type": "stream",
     "text": [
      "Episode 470000, Average Budget: 3.22\n"
     ]
    },
    {
     "name": "stderr",
     "output_type": "stream",
     "text": [
      " 96%|█████████▌| 480019/500000 [1:18:55<03:05, 107.74it/s]"
     ]
    },
    {
     "name": "stdout",
     "output_type": "stream",
     "text": [
      "Episode 480000, Average Budget: 3.26\n"
     ]
    },
    {
     "name": "stderr",
     "output_type": "stream",
     "text": [
      " 98%|█████████▊| 490015/500000 [1:20:38<01:34, 105.67it/s]"
     ]
    },
    {
     "name": "stdout",
     "output_type": "stream",
     "text": [
      "Episode 490000, Average Budget: 3.26\n"
     ]
    },
    {
     "name": "stderr",
     "output_type": "stream",
     "text": [
      "100%|██████████| 500000/500000 [1:22:12<00:00, 101.36it/s]\n"
     ]
    }
   ],
   "source": [
    "nenv = gym.wrappers.RecordEpisodeStatistics(env, deque_size=n_episodes)\n",
    "final_budget_queue = []\n",
    "\n",
    "for episode in tqdm(range(n_episodes)):\n",
    "    REINFORCE_agent.update(episode_number=episode)\n",
    "    REINFORCE_agent.decay_epsilon()\n",
    "    final_budget_queue.append(nenv.unwrapped.budget)\n",
    "\n",
    "    # Optionally, you can print some statistics every N episodes\n",
    "    if episode % 10000 == 0:\n",
    "        avg_budget = sum(final_budget_queue[-10000:]) / min(10000, len(final_budget_queue))\n",
    "        print(f\"Episode {episode}, Average Budget: {avg_budget:.2f}\") #, Weights: {list(REINFORCE_agent.policy_net.parameters())}\")"
   ]
  },
  {
   "cell_type": "markdown",
   "metadata": {},
   "source": [
    "Statistics evaluation"
   ]
  },
  {
   "cell_type": "code",
   "execution_count": 6,
   "metadata": {},
   "outputs": [],
   "source": [
    "w = 1000\n",
    "# rewards = conv(np.array(nenv.return_queue).flatten(), win=w)\n",
    "# lengths = conv(np.array(nenv.length_queue).flatten(), win=w)\n",
    "# error = conv(np.array(REINFORCE_agent.training_error).flatten(), win=w)\n",
    "final_budgets = conv(np.array(final_budget_queue), win=w)"
   ]
  },
  {
   "cell_type": "code",
   "execution_count": 7,
   "metadata": {},
   "outputs": [
    {
     "data": {
      "image/png": "[encoded data removed]",
      "text/plain": [
       "<Figure size 1200x400 with 2 Axes>"
      ]
     },
     "metadata": {},
     "output_type": "display_data"
    }
   ],
   "source": [
    "fig, ax = plt.subplots(figsize=(12, 4), ncols=2)\n",
    "sns.lineplot(x=range(len(np.array(0).flatten())), y=np.array(0).flatten(), ax=ax[0], c='#acc700', linewidth=.2)\n",
    "ax[0].set_title('Error')\n",
    "sns.lineplot(x=range(len(final_budget_queue)), y=final_budget_queue, ax=ax[1], c='#acc700', linewidth=.2)\n",
    "ax[1].set_title('Final budget')\n",
    "plt.tight_layout()\n",
    "plt.show()"
   ]
  },
  {
   "cell_type": "code",
   "execution_count": 48,
   "metadata": {},
   "outputs": [
    {
     "data": {
      "image/png": "[encoded data removed]",
      "text/plain": [
       "<Figure size 800x400 with 1 Axes>"
      ]
     },
     "metadata": {},
     "output_type": "display_data"
    }
   ],
   "source": [
    "fig, ax = plt.subplots(figsize=(8, 4))\n",
    "sns.lineplot(x=range(len(final_budgets)), y=final_budgets, ax=ax, c='#acc700', linewidth=.2)\n",
    "ax.set_title('Final budget')\n",
    "\n",
    "# Remove spines on top and right sides\n",
    "ax.spines['top'].set_visible(False)\n",
    "ax.spines['right'].set_visible(False)\n",
    "\n",
    "plt.tight_layout()\n",
    "plt.show()"
   ]
  },
  {
   "cell_type": "code",
   "execution_count": 78,
   "metadata": {},
   "outputs": [
    {
     "name": "stdout",
     "output_type": "stream",
     "text": [
      "Action: 0 State: {'budget': 2, 'sheep_count': 0, 'bought_sheep_count': 0, 'sheep_reproduction_probability': 0.00316227766016838, 'year': 0} Reward: -0.0 Terminated: False False {}\n",
      "Action: 0 State: {'budget': 1.001, 'sheep_count': 1, 'bought_sheep_count': 1, 'sheep_reproduction_probability': 0.00316227766016838, 'year': 1} Reward: -0.0 Terminated: False False {}\n",
      "Action: 2 State: {'budget': 0.011999999999999891, 'sheep_count': 3, 'bought_sheep_count': 2, 'sheep_reproduction_probability': 1.0, 'year': 2} Reward: 0.0 Terminated: False False {}\n",
      "Action: 1 State: {'budget': 0.03299999999999989, 'sheep_count': 3, 'bought_sheep_count': 2, 'sheep_reproduction_probability': 0.3628873693012115, 'year': 3} Reward: 0.0 Terminated: False False {}\n",
      "Action: 1 State: {'budget': 0.0839999999999999, 'sheep_count': 4, 'bought_sheep_count': 2, 'sheep_reproduction_probability': 0.3628873693012115, 'year': 4} Reward: 0.0 Terminated: False False {}\n",
      "Action: 1 State: {'budget': 0.09499999999999989, 'sheep_count': 6, 'bought_sheep_count': 2, 'sheep_reproduction_probability': 0.1767766952966369, 'year': 5} Reward: 0.0 Terminated: False False {}\n",
      "Action: 1 State: {'budget': 0.17599999999999988, 'sheep_count': 6, 'bought_sheep_count': 2, 'sheep_reproduction_probability': 0.06415002990995841, 'year': 6} Reward: 0.0 Terminated: False False {}\n",
      "Action: 1 State: {'budget': 0.2569999999999999, 'sheep_count': 6, 'bought_sheep_count': 2, 'sheep_reproduction_probability': 0.06415002990995841, 'year': 7} Reward: 0.0 Terminated: False False {}\n",
      "Action: 1 State: {'budget': 0.3379999999999999, 'sheep_count': 7, 'bought_sheep_count': 2, 'sheep_reproduction_probability': 0.06415002990995841, 'year': 8} Reward: 0.0 Terminated: False False {}\n",
      "Action: 1 State: {'budget': 0.42899999999999994, 'sheep_count': 7, 'bought_sheep_count': 2, 'sheep_reproduction_probability': 0.043634488475497855, 'year': 9} Reward: 0.0 Terminated: False False {}\n",
      "Action: 1 State: {'budget': 0.5199999999999999, 'sheep_count': 9, 'bought_sheep_count': 2, 'sheep_reproduction_probability': 0.043634488475497855, 'year': 10} Reward: 0.0 Terminated: False False {}\n",
      "Action: 1 State: {'budget': 0.5809999999999998, 'sheep_count': 9, 'bought_sheep_count': 2, 'sheep_reproduction_probability': 0.023279235594618846, 'year': 11} Reward: 0.001 Terminated: False False {}\n",
      "Action: 1 State: {'budget': 0.6919999999999998, 'sheep_count': 12, 'bought_sheep_count': 2, 'sheep_reproduction_probability': 0.023279235594618846, 'year': 12} Reward: 0.002 Terminated: False False {}\n",
      "Action: 1 State: {'budget': 0.7829999999999998, 'sheep_count': 14, 'bought_sheep_count': 2, 'sheep_reproduction_probability': 0.01134023029066286, 'year': 13} Reward: 0.005 Terminated: False False {}\n",
      "Action: 1 State: {'budget': 0.9439999999999997, 'sheep_count': 14, 'bought_sheep_count': 2, 'sheep_reproduction_probability': 0.007713560673657698, 'year': 14} Reward: 0.007 Terminated: False False {}\n",
      "Action: 0 State: {'budget': 1.1049999999999998, 'sheep_count': 14, 'bought_sheep_count': 2, 'sheep_reproduction_probability': 0.007713560673657698, 'year': 15} Reward: -0.057 Terminated: False False {}\n",
      "Action: 1 State: {'budget': 0.24599999999999975, 'sheep_count': 15, 'bought_sheep_count': 3, 'sheep_reproduction_probability': 0.01788854381999832, 'year': 16} Reward: 0.016 Terminated: False False {}\n",
      "Action: 1 State: {'budget': 0.41699999999999976, 'sheep_count': 16, 'bought_sheep_count': 3, 'sheep_reproduction_probability': 0.01788854381999832, 'year': 17} Reward: 0.025 Terminated: False False {}\n",
      "Action: 1 State: {'budget': 0.5979999999999998, 'sheep_count': 19, 'bought_sheep_count': 3, 'sheep_reproduction_probability': 0.015223102800898336, 'year': 18} Reward: 0.03 Terminated: False False {}\n",
      "Action: 1 State: {'budget': 0.7589999999999997, 'sheep_count': 20, 'bought_sheep_count': 3, 'sheep_reproduction_probability': 0.009906474692730243, 'year': 19} Reward: 0.055 Terminated: False False {}\n",
      "Action: 1 State: {'budget': 0.9799999999999996, 'sheep_count': 22, 'bought_sheep_count': 3, 'sheep_reproduction_probability': 0.008714212528966687, 'year': 20} Reward: 0.078 Terminated: False False {}\n",
      "Action: 1 State: {'budget': 1.2209999999999996, 'sheep_count': 22, 'bought_sheep_count': 3, 'sheep_reproduction_probability': 0.006866674083557817, 'year': 21} Reward: 0.079 Terminated: False False {}\n",
      "Action: 0 State: {'budget': 1.4119999999999997, 'sheep_count': 22, 'bought_sheep_count': 3, 'sheep_reproduction_probability': 0.006866674083557817, 'year': 22} Reward: -0.395 Terminated: False False {}\n",
      "Action: 1 State: {'budget': 0.6329999999999997, 'sheep_count': 26, 'bought_sheep_count': 4, 'sheep_reproduction_probability': 0.012613348298348566, 'year': 23} Reward: 0.14 Terminated: False False {}\n",
      "Action: 1 State: {'budget': 0.8639999999999997, 'sheep_count': 31, 'bought_sheep_count': 4, 'sheep_reproduction_probability': 0.009283604030209896, 'year': 24} Reward: 0.234 Terminated: False False {}\n",
      "Action: 1 State: {'budget': 1.1949999999999996, 'sheep_count': 33, 'bought_sheep_count': 4, 'sheep_reproduction_probability': 0.005980613595064304, 'year': 25} Reward: 0.281 Terminated: False False {}\n",
      "Action: 1 State: {'budget': 1.5459999999999996, 'sheep_count': 36, 'bought_sheep_count': 4, 'sheep_reproduction_probability': 0.00511522955976339, 'year': 26} Reward: 0.337 Terminated: False False {}\n",
      "Action: 1 State: {'budget': 1.9269999999999996, 'sheep_count': 39, 'bought_sheep_count': 4, 'sheep_reproduction_probability': 0.004115226337448559, 'year': 27} Reward: 0.389 Terminated: False False {}\n",
      "Action: 1 State: {'budget': 2.3379999999999996, 'sheep_count': 40, 'bought_sheep_count': 4, 'sheep_reproduction_probability': 0.003368902644156994, 'year': 28} Reward: 0.416 Terminated: False False {}\n",
      "Action: 1 State: {'budget': 2.7589999999999995, 'sheep_count': 43, 'bought_sheep_count': 4, 'sheep_reproduction_probability': 0.00316227766016838, 'year': 29} Reward: 0.451 Terminated: True False {}\n",
      "Final state: {'budget': 3.2099999999999995, 'sheep_count': 46, 'bought_sheep_count': 4, 'sheep_reproduction_probability': 0.0026392397245231743, 'year': 30}\n",
      "============End of episode============\n"
     ]
    }
   ],
   "source": [
    "state, info = env.reset()\n",
    "for _ in range(30):\n",
    "    options = env.unwrapped.actions_available\n",
    "    action = REINFORCE_agent.policy(state, greedy=True)\n",
    "    \n",
    "    s_prime, reward, terminated, truncated, info = env.step(action)\n",
    "    print(f'Action: {action}', f'State: {state}', f'Reward: {round(reward,3)}', f'Terminated: {terminated}', truncated, info)\n",
    "\n",
    "    if terminated or truncated:\n",
    "        print(f'Final state: {s_prime}')\n",
    "        print(\"============End of episode============\")\n",
    "        state, info = env.reset()\n",
    "        break\n",
    "    else:\n",
    "        state = s_prime\n",
    "env.close()"
   ]
  },
  {
   "cell_type": "markdown",
   "metadata": {},
   "source": [
    "Save model"
   ]
  },
  {
   "cell_type": "code",
   "execution_count": 83,
   "metadata": {},
   "outputs": [],
   "source": [
    "experiment_folder = 's6-penalty2.5-edecay1-g0.999'\n",
    "os.makedirs(f'agent_models/REINFORCENeuralAdvantage/{experiment_folder}', exist_ok=True)\n",
    "torch.save(REINFORCE_agent.policy_net.state_dict(), f'agent_models/REINFORCENeuralAdvantage/{experiment_folder}/policy_net_weights-{int(n_episodes/1000)}k.pth')\n",
    "torch.save(REINFORCE_agent.value_net.state_dict(), f'agent_models/REINFORCENeuralAdvantage/{experiment_folder}/value_net_weights-{int(n_episodes/1000)}k.pth')"
   ]
  },
  {
   "cell_type": "markdown",
   "metadata": {},
   "source": [
    "Save data"
   ]
  },
  {
   "cell_type": "code",
   "execution_count": 84,
   "metadata": {},
   "outputs": [],
   "source": [
    "os.makedirs(f'data/REINFORCENeuralAdvantage/{experiment_folder}', exist_ok=True)\n",
    "np.save(f'data/REINFORCENeuralAdvantage/{experiment_folder}/final_budget_queue-{int(n_episodes/1000)}k.npy', np.array(final_budget_queue))"
   ]
  },
  {
   "cell_type": "markdown",
   "metadata": {},
   "source": [
    "# Montecarlo VFA"
   ]
  },
  {
   "cell_type": "code",
   "execution_count": null,
   "metadata": {},
   "outputs": [],
   "source": [
    "nenv = gym.wrappers.RecordEpisodeStatistics(env, deque_size=n_episodes)\n",
    "final_budget_queue = []\n",
    "for episode in tqdm(range(n_episodes)):\n",
    "    MC_vfa_agent.update(episode_number=episode)\n",
    "    MC_vfa_agent.decay_epsilon()\n",
    "    final_budget_queue.append(nenv.unwrapped.budget)"
   ]
  },
  {
   "cell_type": "markdown",
   "metadata": {},
   "source": [
    "Statistics evaluation"
   ]
  },
  {
   "cell_type": "code",
   "execution_count": null,
   "metadata": {},
   "outputs": [],
   "source": [
    "w = 1000\n",
    "# rewards = conv(np.array(nenv.return_queue).flatten(), win=w)\n",
    "# lengths = conv(np.array(nenv.length_queue).flatten(), win=w)\n",
    "error = conv(np.array(MC_vfa_agent.training_error).flatten(), win=w)\n",
    "final_budgets = conv(np.array(final_budget_queue), win=w)"
   ]
  },
  {
   "cell_type": "code",
   "execution_count": null,
   "metadata": {},
   "outputs": [],
   "source": [
    "len(error), len(final_budgets)"
   ]
  },
  {
   "cell_type": "code",
   "execution_count": null,
   "metadata": {},
   "outputs": [],
   "source": [
    "fig, ax = plt.subplots(figsize=(12, 4), ncols=2)\n",
    "sns.lineplot(x=range(len(np.array(MC_vfa_agent.training_error).flatten())), y=np.array(MC_vfa_agent.training_error).flatten(), ax=ax[0], c='#acc700', linewidth=.2)\n",
    "ax[0].set_title('Error')\n",
    "sns.lineplot(x=range(len(final_budget_queue)), y=final_budget_queue, ax=ax[1], c='#acc700', linewidth=.2)\n",
    "ax[1].set_title('Final budget')\n",
    "plt.tight_layout()\n",
    "plt.show()"
   ]
  },
  {
   "cell_type": "code",
   "execution_count": null,
   "metadata": {},
   "outputs": [],
   "source": [
    "fig, ax = plt.subplots(figsize=(12, 4), ncols=2)\n",
    "sns.lineplot(x=range(len(error)), y=error, ax=ax[0], c='#acc700', linewidth=.2)\n",
    "ax[0].set_title('Error')\n",
    "sns.lineplot(x=range(len(final_budgets)), y=final_budgets, ax=ax[1], c='#acc700', linewidth=.2)\n",
    "ax[1].set_title('Final budget')\n",
    "plt.tight_layout()\n",
    "plt.show()"
   ]
  },
  {
   "cell_type": "code",
   "execution_count": null,
   "metadata": {},
   "outputs": [],
   "source": [
    "MC_vfa_agent.w"
   ]
  },
  {
   "cell_type": "code",
   "execution_count": null,
   "metadata": {},
   "outputs": [],
   "source": [
    "state, info = env.reset()\n",
    "for _ in range(30):\n",
    "    options = env.unwrapped.actions_available\n",
    "    action = MC_vfa_agent.greedy_policy(state)\n",
    "    \n",
    "    s_prime, reward, terminated, truncated, info = env.step(action)\n",
    "    print(f'Action: {action}', f'State: {state}', f'Reward: {round(reward,3)}', f'Terminated: {terminated}', truncated, info)\n",
    "\n",
    "    if terminated or truncated:\n",
    "        print(f'Final state: {s_prime}')\n",
    "        print(\"============End of episode============\")\n",
    "        state, info = env.reset()\n",
    "        break\n",
    "    else:\n",
    "        state = s_prime\n",
    "env.close()"
   ]
  },
  {
   "cell_type": "code",
   "execution_count": null,
   "metadata": {},
   "outputs": [],
   "source": [
    "experiment_folder = 'gaussian_delta-nowoolcost-15woolprice-200k'\n",
    "os.makedirs(f'data/MCVFA/{experiment_folder}', exist_ok=True)\n",
    "\n",
    "np.save(f'data/MCVFA/{experiment_folder}/weights.npy', MC_vfa_agent.w.detach().numpy())\n",
    "np.save(f'data/MCVFA/{experiment_folder}/final_budget_queue.npy', np.array(final_budget_queue))\n",
    "np.save(f'data/MCVFA/{experiment_folder}/training_error.npy', np.array(MC_vfa_agent.training_error).flatten())\n",
    "# Split the 15M training error records in two chunks not to exceed GitHub limit of 100MB per file\n",
    "# np.save('data/MCVFA/training_error_0k-750k.npy', MC_vfa_agent.training_error[: len(MC_vfa_agent.training_error) // 2])\n",
    "# np.save('data/MCVFA/training_error_750k-1.5M.npy', MC_vfa_agent.training_error[len(MC_vfa_agent.training_error) // 2 : ])"
   ]
  },
  {
   "cell_type": "markdown",
   "metadata": {},
   "source": [
    "# SARSA VFA"
   ]
  },
  {
   "cell_type": "code",
   "execution_count": null,
   "metadata": {},
   "outputs": [],
   "source": [
    "nenv = gym.wrappers.RecordEpisodeStatistics(env, deque_size=n_episodes)\n",
    "final_budget_queue = []\n",
    "for episode in tqdm(range(n_episodes)):\n",
    "    state, info = nenv.reset()\n",
    "    done = False\n",
    "    while not done:\n",
    "        action = SARSA_vfa_agent.policy(state)\n",
    "        # print(action)\n",
    "        s_prime, reward, terminated, truncated, info = nenv.step(action=action)\n",
    "        # update\n",
    "        SARSA_vfa_agent.update(state, action, reward, s_prime)\n",
    "        done = terminated or truncated\n",
    "        state = s_prime\n",
    "    SARSA_vfa_agent.decay_epsilon()\n",
    "    final_budget_queue.append(nenv.unwrapped.budget)"
   ]
  },
  {
   "cell_type": "markdown",
   "metadata": {},
   "source": [
    "Statistics evaluation"
   ]
  },
  {
   "cell_type": "code",
   "execution_count": null,
   "metadata": {},
   "outputs": [],
   "source": [
    "w = 100\n",
    "rewards = conv(np.array(nenv.return_queue).flatten(), win=w)\n",
    "lengths = conv(np.array(nenv.length_queue).flatten(), win=w)\n",
    "error = conv(np.array(SARSA_vfa_agent.training_error).flatten(), win=w)\n",
    "final_budgets = conv(np.array(final_budget_queue), win=w)"
   ]
  },
  {
   "cell_type": "code",
   "execution_count": null,
   "metadata": {},
   "outputs": [],
   "source": [
    "len(rewards),len(lengths),len(SARSA_vfa_agent.training_error)"
   ]
  },
  {
   "cell_type": "code",
   "execution_count": null,
   "metadata": {},
   "outputs": [],
   "source": [
    "fig, ax = plt.subplots(figsize=(16, 4), ncols=4)\n",
    "ax[0].plot(range(len(nenv.return_queue)), nenv.return_queue, c='#acc700', linewidth=.4)\n",
    "ax[0].set_title('Reward (Average)')\n",
    "ax[1].plot(range(len(nenv.length_queue)), nenv.length_queue, c='#acc700', linewidth=.8)\n",
    "ax[1].set_title('Episode Length')\n",
    "ax[2].plot(range(len(SARSA_vfa_agent.training_error)), SARSA_vfa_agent.training_error, c='#acc700', linewidth=.2)\n",
    "ax[2].set_title('Error')\n",
    "ax[3].plot(range(len(final_budget_queue)), final_budget_queue, c='#acc700', linewidth=.2)\n",
    "ax[3].set_title('Final budget')\n",
    "plt.tight_layout()\n",
    "plt.show()"
   ]
  },
  {
   "cell_type": "code",
   "execution_count": null,
   "metadata": {},
   "outputs": [],
   "source": [
    "fig, ax = plt.subplots(figsize=(16, 4), ncols=4)\n",
    "sns.lineplot(x=range(len(rewards)), y=rewards, ax=ax[0], c='#acc700', linewidth=.4)\n",
    "ax[0].set_title('Reward (Average)')\n",
    "sns.lineplot(x=range(len(lengths)), y=lengths, ax=ax[1], c='#acc700', linewidth=.4)\n",
    "ax[1].set_title('Episode Length')\n",
    "sns.lineplot(x=range(len(error)), y=error, ax=ax[2], c='#acc700', linewidth=.2)\n",
    "ax[2].set_title('Error')\n",
    "sns.lineplot(x=range(len(final_budgets)), y=final_budgets, ax=ax[3], c='#acc700', linewidth=.2)\n",
    "ax[3].set_title('Final budget')\n",
    "plt.tight_layout()\n",
    "plt.show()"
   ]
  },
  {
   "cell_type": "code",
   "execution_count": null,
   "metadata": {},
   "outputs": [],
   "source": [
    "SARSA_vfa_agent.w"
   ]
  }
 ],
 "metadata": {
  "kernelspec": {
   "display_name": "manage-a-farm-mRYmmniZ-py3.11",
   "language": "python",
   "name": "python3"
  },
  "language_info": {
   "codemirror_mode": {
    "name": "ipython",
    "version": 3
   },
   "file_extension": ".py",
   "mimetype": "text/x-python",
   "name": "python",
   "nbconvert_exporter": "python",
   "pygments_lexer": "ipython3",
   "version": "3.11.5"
  }
 },
 "nbformat": 4,
 "nbformat_minor": 2
}
