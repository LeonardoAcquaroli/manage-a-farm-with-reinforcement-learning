{
 "cells": [
  {
   "cell_type": "code",
   "execution_count": 1,
   "metadata": {},
   "outputs": [],
   "source": [
    "import gymnasium as gym\n",
    "import os\n",
    "import source.config as config\n",
    "from source.algorithms import *\n",
    "from tqdm import tqdm\n",
    "import numpy as np\n",
    "import matplotlib.pyplot as plt\n",
    "import seaborn as sns\n",
    "import source.farm_env # Import necessary to register the gym environment"
   ]
  },
  {
   "cell_type": "code",
   "execution_count": 2,
   "metadata": {},
   "outputs": [],
   "source": [
    "env = gym.make(id='FarmEnv-v0',\n",
    "                initial_budget = config.INITIAL_BUDGET,\n",
    "                sheep_cost = config.SHEEP_COST,\n",
    "                wheat_cost = config.WHEAT_COST,\n",
    "                wool_price = config.WOOL_PRICE,\n",
    "                wheat_price = config.WHEAT_PRICE,\n",
    "                max_years = config.MAX_YEARS,\n",
    "                wool_fixed_cost = config.WOOL_FIXED_COST,\n",
    "                storm_probability = config.STORM_PROBABILITY,\n",
    "                incest_penalty = config.INCEST_PENALTY,\n",
    "                reward_std = config.SIGMA\n",
    "                )"
   ]
  },
  {
   "cell_type": "code",
   "execution_count": 3,
   "metadata": {},
   "outputs": [],
   "source": [
    "def conv(a, win=100):\n",
    "    return np.convolve(a, np.ones(win), mode='same') / win"
   ]
  },
  {
   "cell_type": "code",
   "execution_count": 4,
   "metadata": {},
   "outputs": [
    {
     "name": "stderr",
     "output_type": "stream",
     "text": [
      "c:\\Users\\leoac\\AppData\\Local\\pypoetry\\Cache\\virtualenvs\\manage-a-farm-jQWtjN-A-py3.11\\Lib\\site-packages\\gymnasium\\utils\\passive_env_checker.py:131: UserWarning: \u001b[33mWARN: The obs returned by the `reset()` method was expecting a numpy array, actual type: <class 'int'>\u001b[0m\n",
      "  logger.warn(\n",
      "c:\\Users\\leoac\\AppData\\Local\\pypoetry\\Cache\\virtualenvs\\manage-a-farm-jQWtjN-A-py3.11\\Lib\\site-packages\\gymnasium\\spaces\\box.py:240: UserWarning: \u001b[33mWARN: Casting input x to numpy array.\u001b[0m\n",
      "  gym.logger.warn(\"Casting input x to numpy array.\")\n",
      "c:\\Users\\leoac\\AppData\\Local\\pypoetry\\Cache\\virtualenvs\\manage-a-farm-jQWtjN-A-py3.11\\Lib\\site-packages\\gymnasium\\utils\\passive_env_checker.py:159: UserWarning: \u001b[33mWARN: The obs returned by the `reset()` method is not within the observation space.\u001b[0m\n",
      "  logger.warn(f\"{pre} is not within the observation space.\")\n"
     ]
    }
   ],
   "source": [
    "learning_rate = 0.001\n",
    "policy_learning_rate = 1e-4\n",
    "value_learning_rate = 1e-4\n",
    "n_episodes = 500_000\n",
    "start_epsilon = 1.0\n",
    "epsilon_decay = start_epsilon / (n_episodes)  # reduce the exploration over time\n",
    "final_epsilon = 0.1\n",
    "\n",
    "REINFORCE_agent = FarmAgentNeuralREINFORCEAdvantage(\n",
    "    environment=env, policy_learning_rate=policy_learning_rate, value_learning_rate=value_learning_rate, epsilon=start_epsilon, epsilon_decay=epsilon_decay, final_epsilon=final_epsilon, gamma=.999,\n",
    "    # policy_net_weights_path='agent_models/policy_net_weights.pth', value_net_weights_path='agent_models/value_net_weights.pth'\n",
    ")\n",
    "\n",
    "MC_vfa_agent = FarmAgentMCVFA(\n",
    "    environment=env, learning_rate=learning_rate, epsilon=start_epsilon, epsilon_decay=epsilon_decay, final_epsilon=final_epsilon, gamma=.999\n",
    ")\n",
    "\n",
    "SARSA_vfa_agent = FarmAgentSarsaVFA(\n",
    "    environment=env, learning_rate=learning_rate, epsilon=start_epsilon, epsilon_decay=epsilon_decay, final_epsilon=final_epsilon, gamma=.95\n",
    ")"
   ]
  },
  {
   "cell_type": "markdown",
   "metadata": {},
   "source": [
    "# REINFORCE"
   ]
  },
  {
   "cell_type": "code",
   "execution_count": 5,
   "metadata": {},
   "outputs": [
    {
     "name": "stderr",
     "output_type": "stream",
     "text": [
      "  0%|          | 0/500000 [00:00<?, ?it/s]"
     ]
    },
    {
     "name": "stderr",
     "output_type": "stream",
     "text": [
      "c:\\Users\\leoac\\AppData\\Local\\pypoetry\\Cache\\virtualenvs\\manage-a-farm-jQWtjN-A-py3.11\\Lib\\site-packages\\gymnasium\\utils\\passive_env_checker.py:131: UserWarning: \u001b[33mWARN: The obs returned by the `step()` method was expecting a numpy array, actual type: <class 'float'>\u001b[0m\n",
      "  logger.warn(\n",
      "c:\\Users\\leoac\\AppData\\Local\\pypoetry\\Cache\\virtualenvs\\manage-a-farm-jQWtjN-A-py3.11\\Lib\\site-packages\\gymnasium\\spaces\\box.py:240: UserWarning: \u001b[33mWARN: Casting input x to numpy array.\u001b[0m\n",
      "  gym.logger.warn(\"Casting input x to numpy array.\")\n",
      "c:\\Users\\leoac\\AppData\\Local\\pypoetry\\Cache\\virtualenvs\\manage-a-farm-jQWtjN-A-py3.11\\Lib\\site-packages\\gymnasium\\utils\\passive_env_checker.py:159: UserWarning: \u001b[33mWARN: The obs returned by the `step()` method is not within the observation space.\u001b[0m\n",
      "  logger.warn(f\"{pre} is not within the observation space.\")\n",
      "c:\\Users\\leoac\\AppData\\Local\\pypoetry\\Cache\\virtualenvs\\manage-a-farm-jQWtjN-A-py3.11\\Lib\\site-packages\\gymnasium\\utils\\passive_env_checker.py:131: UserWarning: \u001b[33mWARN: The obs returned by the `step()` method was expecting a numpy array, actual type: <class 'int'>\u001b[0m\n",
      "  logger.warn(\n",
      "c:\\Users\\leoac\\OneDrive - Università degli Studi di Milano\\Unimi\\Subjects\\2nd_year\\02_quarter\\RL\\Project\\manage-a-farm-with-reinforcement-learning\\source\\algorithms.py:424: UserWarning: Creating a tensor from a list of numpy.ndarrays is extremely slow. Please consider converting the list to a single numpy.ndarray with numpy.array() before converting to a tensor. (Triggered internally at C:\\actions-runner\\_work\\pytorch\\pytorch\\builder\\windows\\pytorch\\torch\\csrc\\utils\\tensor_new.cpp:281.)\n",
      "  normalized_states = torch.FloatTensor([self.normalize_state(s) for s in states])\n",
      "  0%|          | 6/500000 [00:00<5:17:44, 26.23it/s]"
     ]
    },
    {
     "name": "stdout",
     "output_type": "stream",
     "text": [
      "Episode 0, Average Budget: 2.72\n"
     ]
    },
    {
     "name": "stderr",
     "output_type": "stream",
     "text": [
      "  2%|▏         | 10011/500000 [02:52<2:38:11, 51.63it/s]"
     ]
    },
    {
     "name": "stdout",
     "output_type": "stream",
     "text": [
      "Episode 10000, Average Budget: 1.73\n"
     ]
    },
    {
     "name": "stderr",
     "output_type": "stream",
     "text": [
      "  4%|▍         | 20026/500000 [04:02<53:47, 148.73it/s]  "
     ]
    },
    {
     "name": "stdout",
     "output_type": "stream",
     "text": [
      "Episode 20000, Average Budget: 1.74\n"
     ]
    },
    {
     "name": "stderr",
     "output_type": "stream",
     "text": [
      "  6%|▌         | 30019/500000 [05:09<51:08, 153.18it/s]  "
     ]
    },
    {
     "name": "stdout",
     "output_type": "stream",
     "text": [
      "Episode 30000, Average Budget: 1.74\n"
     ]
    },
    {
     "name": "stderr",
     "output_type": "stream",
     "text": [
      "  8%|▊         | 40023/500000 [06:17<50:52, 150.70it/s]  "
     ]
    },
    {
     "name": "stdout",
     "output_type": "stream",
     "text": [
      "Episode 40000, Average Budget: 1.75\n"
     ]
    },
    {
     "name": "stderr",
     "output_type": "stream",
     "text": [
      " 10%|█         | 50022/500000 [07:36<52:33, 142.68it/s]  "
     ]
    },
    {
     "name": "stdout",
     "output_type": "stream",
     "text": [
      "Episode 50000, Average Budget: 1.74\n"
     ]
    },
    {
     "name": "stderr",
     "output_type": "stream",
     "text": [
      " 12%|█▏        | 60017/500000 [08:50<57:07, 128.38it/s]  "
     ]
    },
    {
     "name": "stdout",
     "output_type": "stream",
     "text": [
      "Episode 60000, Average Budget: 1.77\n"
     ]
    },
    {
     "name": "stderr",
     "output_type": "stream",
     "text": [
      " 14%|█▍        | 70022/500000 [10:04<50:47, 141.09it/s]  "
     ]
    },
    {
     "name": "stdout",
     "output_type": "stream",
     "text": [
      "Episode 70000, Average Budget: 1.77\n"
     ]
    },
    {
     "name": "stderr",
     "output_type": "stream",
     "text": [
      " 16%|█▌        | 80011/500000 [11:25<1:42:57, 67.98it/s] "
     ]
    },
    {
     "name": "stdout",
     "output_type": "stream",
     "text": [
      "Episode 80000, Average Budget: 1.84\n"
     ]
    },
    {
     "name": "stderr",
     "output_type": "stream",
     "text": [
      " 18%|█▊        | 90019/500000 [12:43<57:57, 117.88it/s]  "
     ]
    },
    {
     "name": "stdout",
     "output_type": "stream",
     "text": [
      "Episode 90000, Average Budget: 1.89\n"
     ]
    },
    {
     "name": "stderr",
     "output_type": "stream",
     "text": [
      " 20%|██        | 100012/500000 [13:58<48:22, 137.83it/s] "
     ]
    },
    {
     "name": "stdout",
     "output_type": "stream",
     "text": [
      "Episode 100000, Average Budget: 1.89\n"
     ]
    },
    {
     "name": "stderr",
     "output_type": "stream",
     "text": [
      " 22%|██▏       | 110016/500000 [15:15<51:03, 127.29it/s]  "
     ]
    },
    {
     "name": "stdout",
     "output_type": "stream",
     "text": [
      "Episode 110000, Average Budget: 1.91\n"
     ]
    },
    {
     "name": "stderr",
     "output_type": "stream",
     "text": [
      " 24%|██▍       | 120012/500000 [16:34<47:35, 133.05it/s]  "
     ]
    },
    {
     "name": "stdout",
     "output_type": "stream",
     "text": [
      "Episode 120000, Average Budget: 1.96\n"
     ]
    },
    {
     "name": "stderr",
     "output_type": "stream",
     "text": [
      " 26%|██▌       | 130024/500000 [17:54<47:42, 129.27it/s]  "
     ]
    },
    {
     "name": "stdout",
     "output_type": "stream",
     "text": [
      "Episode 130000, Average Budget: 2.00\n"
     ]
    },
    {
     "name": "stderr",
     "output_type": "stream",
     "text": [
      " 28%|██▊       | 140024/500000 [19:11<47:21, 126.68it/s]"
     ]
    },
    {
     "name": "stdout",
     "output_type": "stream",
     "text": [
      "Episode 140000, Average Budget: 2.04\n"
     ]
    },
    {
     "name": "stderr",
     "output_type": "stream",
     "text": [
      " 30%|███       | 150024/500000 [20:29<43:57, 132.70it/s] "
     ]
    },
    {
     "name": "stdout",
     "output_type": "stream",
     "text": [
      "Episode 150000, Average Budget: 2.05\n"
     ]
    },
    {
     "name": "stderr",
     "output_type": "stream",
     "text": [
      " 32%|███▏      | 160020/500000 [21:47<43:56, 128.93it/s]"
     ]
    },
    {
     "name": "stdout",
     "output_type": "stream",
     "text": [
      "Episode 160000, Average Budget: 2.08\n"
     ]
    },
    {
     "name": "stderr",
     "output_type": "stream",
     "text": [
      " 34%|███▍      | 170019/500000 [23:07<44:16, 124.20it/s] "
     ]
    },
    {
     "name": "stdout",
     "output_type": "stream",
     "text": [
      "Episode 170000, Average Budget: 2.12\n"
     ]
    },
    {
     "name": "stderr",
     "output_type": "stream",
     "text": [
      " 36%|███▌      | 180014/500000 [24:27<42:16, 126.17it/s]"
     ]
    },
    {
     "name": "stdout",
     "output_type": "stream",
     "text": [
      "Episode 180000, Average Budget: 2.15\n"
     ]
    },
    {
     "name": "stderr",
     "output_type": "stream",
     "text": [
      " 38%|███▊      | 190011/500000 [25:57<45:48, 112.79it/s] "
     ]
    },
    {
     "name": "stdout",
     "output_type": "stream",
     "text": [
      "Episode 190000, Average Budget: 2.16\n"
     ]
    },
    {
     "name": "stderr",
     "output_type": "stream",
     "text": [
      " 40%|████      | 200004/500000 [28:25<1:36:39, 51.73it/s]"
     ]
    },
    {
     "name": "stdout",
     "output_type": "stream",
     "text": [
      "Episode 200000, Average Budget: 2.22\n"
     ]
    },
    {
     "name": "stderr",
     "output_type": "stream",
     "text": [
      " 42%|████▏     | 210008/500000 [31:15<1:21:07, 59.57it/s]"
     ]
    },
    {
     "name": "stdout",
     "output_type": "stream",
     "text": [
      "Episode 210000, Average Budget: 2.28\n"
     ]
    },
    {
     "name": "stderr",
     "output_type": "stream",
     "text": [
      " 44%|████▍     | 220008/500000 [34:12<1:24:35, 55.16it/s]"
     ]
    },
    {
     "name": "stdout",
     "output_type": "stream",
     "text": [
      "Episode 220000, Average Budget: 2.30\n"
     ]
    },
    {
     "name": "stderr",
     "output_type": "stream",
     "text": [
      " 46%|████▌     | 230009/500000 [37:03<1:00:18, 74.62it/s]"
     ]
    },
    {
     "name": "stdout",
     "output_type": "stream",
     "text": [
      "Episode 230000, Average Budget: 2.30\n"
     ]
    },
    {
     "name": "stderr",
     "output_type": "stream",
     "text": [
      " 48%|████▊     | 240018/500000 [39:18<56:02, 77.33it/s]  "
     ]
    },
    {
     "name": "stdout",
     "output_type": "stream",
     "text": [
      "Episode 240000, Average Budget: 2.38\n"
     ]
    },
    {
     "name": "stderr",
     "output_type": "stream",
     "text": [
      " 50%|█████     | 250022/500000 [40:58<41:00, 101.60it/s] "
     ]
    },
    {
     "name": "stdout",
     "output_type": "stream",
     "text": [
      "Episode 250000, Average Budget: 2.39\n"
     ]
    },
    {
     "name": "stderr",
     "output_type": "stream",
     "text": [
      " 52%|█████▏    | 260010/500000 [42:40<39:16, 101.83it/s] "
     ]
    },
    {
     "name": "stdout",
     "output_type": "stream",
     "text": [
      "Episode 260000, Average Budget: 2.43\n"
     ]
    },
    {
     "name": "stderr",
     "output_type": "stream",
     "text": [
      " 54%|█████▍    | 270013/500000 [44:26<38:43, 98.97it/s]  "
     ]
    },
    {
     "name": "stdout",
     "output_type": "stream",
     "text": [
      "Episode 270000, Average Budget: 2.49\n"
     ]
    },
    {
     "name": "stderr",
     "output_type": "stream",
     "text": [
      " 56%|█████▌    | 280018/500000 [46:38<37:47, 97.02it/s]  "
     ]
    },
    {
     "name": "stdout",
     "output_type": "stream",
     "text": [
      "Episode 280000, Average Budget: 2.55\n"
     ]
    },
    {
     "name": "stderr",
     "output_type": "stream",
     "text": [
      " 58%|█████▊    | 290011/500000 [48:28<33:25, 104.71it/s] "
     ]
    },
    {
     "name": "stdout",
     "output_type": "stream",
     "text": [
      "Episode 290000, Average Budget: 2.59\n"
     ]
    },
    {
     "name": "stderr",
     "output_type": "stream",
     "text": [
      " 60%|██████    | 300015/500000 [50:04<36:57, 90.19it/s] "
     ]
    },
    {
     "name": "stdout",
     "output_type": "stream",
     "text": [
      "Episode 300000, Average Budget: 2.62\n"
     ]
    },
    {
     "name": "stderr",
     "output_type": "stream",
     "text": [
      " 62%|██████▏   | 310014/500000 [51:58<43:39, 72.53it/s]  "
     ]
    },
    {
     "name": "stdout",
     "output_type": "stream",
     "text": [
      "Episode 310000, Average Budget: 2.70\n"
     ]
    },
    {
     "name": "stderr",
     "output_type": "stream",
     "text": [
      " 64%|██████▍   | 320006/500000 [54:28<41:07, 72.96it/s]  "
     ]
    },
    {
     "name": "stdout",
     "output_type": "stream",
     "text": [
      "Episode 320000, Average Budget: 2.75\n"
     ]
    },
    {
     "name": "stderr",
     "output_type": "stream",
     "text": [
      " 66%|██████▌   | 330017/500000 [56:20<32:38, 86.81it/s]  "
     ]
    },
    {
     "name": "stdout",
     "output_type": "stream",
     "text": [
      "Episode 330000, Average Budget: 2.79\n"
     ]
    },
    {
     "name": "stderr",
     "output_type": "stream",
     "text": [
      " 68%|██████▊   | 340017/500000 [58:10<28:24, 93.87it/s] "
     ]
    },
    {
     "name": "stdout",
     "output_type": "stream",
     "text": [
      "Episode 340000, Average Budget: 2.85\n"
     ]
    },
    {
     "name": "stderr",
     "output_type": "stream",
     "text": [
      " 70%|███████   | 350011/500000 [1:00:08<42:55, 58.23it/s]  "
     ]
    },
    {
     "name": "stdout",
     "output_type": "stream",
     "text": [
      "Episode 350000, Average Budget: 2.87\n"
     ]
    },
    {
     "name": "stderr",
     "output_type": "stream",
     "text": [
      " 72%|███████▏  | 360011/500000 [1:02:08<27:45, 84.08it/s] "
     ]
    },
    {
     "name": "stdout",
     "output_type": "stream",
     "text": [
      "Episode 360000, Average Budget: 2.95\n"
     ]
    },
    {
     "name": "stderr",
     "output_type": "stream",
     "text": [
      " 74%|███████▍  | 370011/500000 [1:04:02<25:32, 84.85it/s] "
     ]
    },
    {
     "name": "stdout",
     "output_type": "stream",
     "text": [
      "Episode 370000, Average Budget: 3.04\n"
     ]
    },
    {
     "name": "stderr",
     "output_type": "stream",
     "text": [
      " 76%|███████▌  | 380014/500000 [1:05:51<24:23, 81.99it/s] "
     ]
    },
    {
     "name": "stdout",
     "output_type": "stream",
     "text": [
      "Episode 380000, Average Budget: 3.14\n"
     ]
    },
    {
     "name": "stderr",
     "output_type": "stream",
     "text": [
      " 78%|███████▊  | 390009/500000 [1:07:46<18:20, 99.98it/s] "
     ]
    },
    {
     "name": "stdout",
     "output_type": "stream",
     "text": [
      "Episode 390000, Average Budget: 3.19\n"
     ]
    },
    {
     "name": "stderr",
     "output_type": "stream",
     "text": [
      " 80%|████████  | 400014/500000 [1:09:29<15:06, 110.34it/s]"
     ]
    },
    {
     "name": "stdout",
     "output_type": "stream",
     "text": [
      "Episode 400000, Average Budget: 3.27\n"
     ]
    },
    {
     "name": "stderr",
     "output_type": "stream",
     "text": [
      " 82%|████████▏ | 410022/500000 [1:11:00<13:31, 110.93it/s]"
     ]
    },
    {
     "name": "stdout",
     "output_type": "stream",
     "text": [
      "Episode 410000, Average Budget: 3.34\n"
     ]
    },
    {
     "name": "stderr",
     "output_type": "stream",
     "text": [
      " 84%|████████▍ | 420020/500000 [1:12:32<12:01, 110.92it/s]"
     ]
    },
    {
     "name": "stdout",
     "output_type": "stream",
     "text": [
      "Episode 420000, Average Budget: 3.38\n"
     ]
    },
    {
     "name": "stderr",
     "output_type": "stream",
     "text": [
      " 86%|████████▌ | 430012/500000 [1:14:07<13:58, 83.43it/s] "
     ]
    },
    {
     "name": "stdout",
     "output_type": "stream",
     "text": [
      "Episode 430000, Average Budget: 3.44\n"
     ]
    },
    {
     "name": "stderr",
     "output_type": "stream",
     "text": [
      " 88%|████████▊ | 440017/500000 [1:15:49<09:58, 100.23it/s]"
     ]
    },
    {
     "name": "stdout",
     "output_type": "stream",
     "text": [
      "Episode 440000, Average Budget: 3.51\n"
     ]
    },
    {
     "name": "stderr",
     "output_type": "stream",
     "text": [
      " 90%|█████████ | 450018/500000 [1:17:37<08:11, 101.78it/s]"
     ]
    },
    {
     "name": "stdout",
     "output_type": "stream",
     "text": [
      "Episode 450000, Average Budget: 3.57\n"
     ]
    },
    {
     "name": "stderr",
     "output_type": "stream",
     "text": [
      " 92%|█████████▏| 460016/500000 [1:19:14<06:24, 104.01it/s]"
     ]
    },
    {
     "name": "stdout",
     "output_type": "stream",
     "text": [
      "Episode 460000, Average Budget: 3.62\n"
     ]
    },
    {
     "name": "stderr",
     "output_type": "stream",
     "text": [
      " 94%|█████████▍| 470014/500000 [1:20:48<04:45, 105.11it/s]"
     ]
    },
    {
     "name": "stdout",
     "output_type": "stream",
     "text": [
      "Episode 470000, Average Budget: 3.63\n"
     ]
    },
    {
     "name": "stderr",
     "output_type": "stream",
     "text": [
      " 96%|█████████▌| 480011/500000 [1:22:56<04:03, 81.96it/s] "
     ]
    },
    {
     "name": "stdout",
     "output_type": "stream",
     "text": [
      "Episode 480000, Average Budget: 3.63\n"
     ]
    },
    {
     "name": "stderr",
     "output_type": "stream",
     "text": [
      " 98%|█████████▊| 490013/500000 [1:24:46<02:55, 56.94it/s] "
     ]
    },
    {
     "name": "stdout",
     "output_type": "stream",
     "text": [
      "Episode 490000, Average Budget: 3.63\n"
     ]
    },
    {
     "name": "stderr",
     "output_type": "stream",
     "text": [
      "100%|██████████| 500000/500000 [1:26:37<00:00, 96.21it/s] \n"
     ]
    }
   ],
   "source": [
    "nenv = gym.wrappers.RecordEpisodeStatistics(env, deque_size=n_episodes)\n",
    "final_budget_queue = []\n",
    "\n",
    "for episode in tqdm(range(n_episodes)):\n",
    "    REINFORCE_agent.update(episode_number=episode)\n",
    "    REINFORCE_agent.decay_epsilon()\n",
    "    final_budget_queue.append(nenv.unwrapped.budget)\n",
    "\n",
    "    # Optionally, you can print some statistics every N episodes\n",
    "    if episode % 10000 == 0:\n",
    "        avg_budget = sum(final_budget_queue[-10000:]) / min(10000, len(final_budget_queue))\n",
    "        print(f\"Episode {episode}, Average Budget: {avg_budget:.2f}\") #, Weights: {list(REINFORCE_agent.policy_net.parameters())}\")"
   ]
  },
  {
   "cell_type": "markdown",
   "metadata": {},
   "source": [
    "Statistics evaluation"
   ]
  },
  {
   "cell_type": "code",
   "execution_count": 6,
   "metadata": {},
   "outputs": [],
   "source": [
    "w = 1000\n",
    "# rewards = conv(np.array(nenv.return_queue).flatten(), win=w)\n",
    "# lengths = conv(np.array(nenv.length_queue).flatten(), win=w)\n",
    "# error = conv(np.array(REINFORCE_agent.training_error).flatten(), win=w)\n",
    "final_budgets = conv(np.array(final_budget_queue), win=w)"
   ]
  },
  {
   "cell_type": "code",
   "execution_count": 10,
   "metadata": {},
   "outputs": [
    {
     "data": {
      "image/png": "[encoded data removed]",
      "text/plain": [
       "<Figure size 1200x400 with 2 Axes>"
      ]
     },
     "metadata": {},
     "output_type": "display_data"
    }
   ],
   "source": [
    "fig, ax = plt.subplots(figsize=(12, 4), ncols=2)\n",
    "sns.lineplot(x=range(len(np.array(0).flatten())), y=np.array(0).flatten(), ax=ax[0], c='#acc700', linewidth=.2)\n",
    "ax[0].set_title('Error')\n",
    "sns.lineplot(x=range(len(final_budget_queue)), y=final_budget_queue, ax=ax[1], c='#acc700', linewidth=.2)\n",
    "ax[1].set_title('Final budget')\n",
    "plt.tight_layout()\n",
    "plt.show()"
   ]
  },
  {
   "cell_type": "code",
   "execution_count": 11,
   "metadata": {},
   "outputs": [
    {
     "data": {
      "image/png": "[encoded data removed]",
      "text/plain": [
       "<Figure size 800x400 with 1 Axes>"
      ]
     },
     "metadata": {},
     "output_type": "display_data"
    }
   ],
   "source": [
    "fig, ax = plt.subplots(figsize=(8, 4))\n",
    "sns.lineplot(x=range(len(final_budgets)), y=final_budgets, ax=ax, c='#acc700', linewidth=.2)\n",
    "ax.set_title('Final budget')\n",
    "\n",
    "# Remove spines on top and right sides\n",
    "ax.spines['top'].set_visible(False)\n",
    "ax.spines['right'].set_visible(False)\n",
    "\n",
    "plt.tight_layout()\n",
    "plt.show()"
   ]
  },
  {
   "cell_type": "code",
   "execution_count": 54,
   "metadata": {},
   "outputs": [
    {
     "name": "stdout",
     "output_type": "stream",
     "text": [
      "Action: 0 State: {'budget': 2, 'sheep_count': 0, 'bought_sheep_count': 0, 'sheep_reproduction_probability': 0.001641124840903045, 'year': 0} Reward: -0.0 Terminated: False False {}\n",
      "Action: 0 State: {'budget': 1.001, 'sheep_count': 1, 'bought_sheep_count': 1, 'sheep_reproduction_probability': 0.001641124840903045, 'year': 1} Reward: -0.0 Terminated: False False {}\n",
      "Action: 2 State: {'budget': 0.011999999999999891, 'sheep_count': 3, 'bought_sheep_count': 2, 'sheep_reproduction_probability': 1.0, 'year': 2} Reward: 0.0 Terminated: False False {}\n",
      "Action: 1 State: {'budget': 0.03299999999999989, 'sheep_count': 3, 'bought_sheep_count': 2, 'sheep_reproduction_probability': 0.3628873693012115, 'year': 3} Reward: 0.0 Terminated: False False {}\n",
      "Action: 1 State: {'budget': 0.0839999999999999, 'sheep_count': 4, 'bought_sheep_count': 2, 'sheep_reproduction_probability': 0.3628873693012115, 'year': 4} Reward: 0.0 Terminated: False False {}\n",
      "Action: 1 State: {'budget': 0.1449999999999999, 'sheep_count': 5, 'bought_sheep_count': 2, 'sheep_reproduction_probability': 0.1767766952966369, 'year': 5} Reward: 0.0 Terminated: False False {}\n",
      "Action: 1 State: {'budget': 0.1659999999999999, 'sheep_count': 6, 'bought_sheep_count': 2, 'sheep_reproduction_probability': 0.10119288512538815, 'year': 6} Reward: 0.0 Terminated: False False {}\n",
      "Action: 1 State: {'budget': 0.24699999999999991, 'sheep_count': 9, 'bought_sheep_count': 2, 'sheep_reproduction_probability': 0.06415002990995841, 'year': 7} Reward: 0.0 Terminated: False False {}\n",
      "Action: 1 State: {'budget': 0.30799999999999994, 'sheep_count': 10, 'bought_sheep_count': 2, 'sheep_reproduction_probability': 0.023279235594618846, 'year': 8} Reward: 0.0 Terminated: False False {}\n",
      "Action: 1 State: {'budget': 0.37899999999999995, 'sheep_count': 10, 'bought_sheep_count': 2, 'sheep_reproduction_probability': 0.01788854381999832, 'year': 9} Reward: 0.0 Terminated: False False {}\n",
      "Action: 1 State: {'budget': 0.49999999999999994, 'sheep_count': 11, 'bought_sheep_count': 2, 'sheep_reproduction_probability': 0.01788854381999832, 'year': 10} Reward: 0.001 Terminated: False False {}\n",
      "Action: 1 State: {'budget': 0.631, 'sheep_count': 12, 'bought_sheep_count': 2, 'sheep_reproduction_probability': 0.014095915130949451, 'year': 11} Reward: 0.002 Terminated: False False {}\n",
      "Action: 1 State: {'budget': 0.772, 'sheep_count': 13, 'bought_sheep_count': 2, 'sheep_reproduction_probability': 0.01134023029066286, 'year': 12} Reward: 0.003 Terminated: False False {}\n",
      "Action: 1 State: {'budget': 0.923, 'sheep_count': 14, 'bought_sheep_count': 2, 'sheep_reproduction_probability': 0.009283604030209896, 'year': 13} Reward: 0.005 Terminated: False False {}\n",
      "Action: 0 State: {'budget': 1.084, 'sheep_count': 17, 'bought_sheep_count': 2, 'sheep_reproduction_probability': 0.007713560673657698, 'year': 14} Reward: -0.036 Terminated: False False {}\n",
      "Action: 1 State: {'budget': 0.25500000000000006, 'sheep_count': 18, 'bought_sheep_count': 3, 'sheep_reproduction_probability': 0.01134023029066286, 'year': 15} Reward: 0.013 Terminated: False False {}\n",
      "Action: 1 State: {'budget': 0.45600000000000007, 'sheep_count': 19, 'bought_sheep_count': 3, 'sheep_reproduction_probability': 0.01134023029066286, 'year': 16} Reward: 0.02 Terminated: False False {}\n",
      "Action: 1 State: {'budget': 0.667, 'sheep_count': 22, 'bought_sheep_count': 3, 'sheep_reproduction_probability': 0.009906474692730243, 'year': 17} Reward: 0.033 Terminated: False False {}\n",
      "Action: 1 State: {'budget': 0.908, 'sheep_count': 24, 'bought_sheep_count': 3, 'sheep_reproduction_probability': 0.006866674083557817, 'year': 18} Reward: 0.049 Terminated: False False {}\n",
      "Action: 0 State: {'budget': 1.169, 'sheep_count': 25, 'bought_sheep_count': 3, 'sheep_reproduction_probability': 0.005524271728019903, 'year': 19} Reward: -0.187 Terminated: False False {}\n",
      "Action: 1 State: {'budget': 0.42000000000000004, 'sheep_count': 29, 'bought_sheep_count': 4, 'sheep_reproduction_probability': 0.009283604030209896, 'year': 20} Reward: 0.101 Terminated: False False {}\n",
      "Action: 1 State: {'budget': 0.731, 'sheep_count': 29, 'bought_sheep_count': 4, 'sheep_reproduction_probability': 0.007065696577485921, 'year': 21} Reward: 0.128 Terminated: False False {}\n",
      "Action: 0 State: {'budget': 1.0419999999999998, 'sheep_count': 34, 'bought_sheep_count': 4, 'sheep_reproduction_probability': 0.007065696577485921, 'year': 22} Reward: -0.334 Terminated: False False {}\n",
      "Action: 1 State: {'budget': 0.38299999999999984, 'sheep_count': 41, 'bought_sheep_count': 5, 'sheep_reproduction_probability': 0.007713560673657698, 'year': 23} Reward: 0.231 Terminated: False False {}\n",
      "Action: 1 State: {'budget': 0.7639999999999998, 'sheep_count': 46, 'bought_sheep_count': 5, 'sheep_reproduction_probability': 0.005193562580083121, 'year': 24} Reward: 0.34 Terminated: False False {}\n",
      "Action: 1 State: {'budget': 1.2449999999999997, 'sheep_count': 47, 'bought_sheep_count': 5, 'sheep_reproduction_probability': 0.0038952060101357924, 'year': 25} Reward: 0.394 Terminated: False False {}\n",
      "Action: 1 State: {'budget': 1.7359999999999998, 'sheep_count': 51, 'bought_sheep_count': 5, 'sheep_reproduction_probability': 0.0036913086976767895, 'year': 26} Reward: 0.469 Terminated: False False {}\n",
      "Action: 1 State: {'budget': 2.267, 'sheep_count': 57, 'bought_sheep_count': 5, 'sheep_reproduction_probability': 0.0030095361932196726, 'year': 27} Reward: 0.512 Terminated: False False {}\n",
      "Action: 1 State: {'budget': 2.808, 'sheep_count': 60, 'bought_sheep_count': 5, 'sheep_reproduction_probability': 0.0022789661348072187, 'year': 28} Reward: 0.564 Terminated: False False {}\n",
      "Action: 1 State: {'budget': 3.3789999999999996, 'sheep_count': 69, 'bought_sheep_count': 5, 'sheep_reproduction_probability': 0.0020046884346862004, 'year': 29} Reward: 0.712 Terminated: True False {}\n",
      "Final state: {'budget': 4.09, 'sheep_count': 71, 'bought_sheep_count': 5, 'sheep_reproduction_probability': 0.0014135210619044465, 'year': 30}\n",
      "============End of episode============\n"
     ]
    }
   ],
   "source": [
    "state, info = env.reset()\n",
    "for _ in range(30):\n",
    "    options = env.unwrapped.actions_available\n",
    "    action = REINFORCE_agent.policy(state, greedy=True)\n",
    "    \n",
    "    s_prime, reward, terminated, truncated, info = env.step(action)\n",
    "    print(f'Action: {action}', f'State: {state}', f'Reward: {round(reward,3)}', f'Terminated: {terminated}', truncated, info)\n",
    "\n",
    "    if terminated or truncated:\n",
    "        print(f'Final state: {s_prime}')\n",
    "        print(\"============End of episode============\")\n",
    "        state, info = env.reset()\n",
    "        break\n",
    "    else:\n",
    "        state = s_prime\n",
    "env.close()"
   ]
  },
  {
   "cell_type": "markdown",
   "metadata": {},
   "source": [
    "Save model"
   ]
  },
  {
   "cell_type": "code",
   "execution_count": 83,
   "metadata": {},
   "outputs": [],
   "source": [
    "experiment_folder = 's6-penalty2.5-edecay1-g0.999-storm0.6'\n",
    "os.makedirs(f'agent_models/REINFORCENeuralAdvantage/{experiment_folder}', exist_ok=True)\n",
    "torch.save(REINFORCE_agent.policy_net.state_dict(), f'agent_models/REINFORCENeuralAdvantage/{experiment_folder}/policy_net_weights-{int(n_episodes/1000)}k.pth')\n",
    "torch.save(REINFORCE_agent.value_net.state_dict(), f'agent_models/REINFORCENeuralAdvantage/{experiment_folder}/value_net_weights-{int(n_episodes/1000)}k.pth')"
   ]
  },
  {
   "cell_type": "markdown",
   "metadata": {},
   "source": [
    "Save data"
   ]
  },
  {
   "cell_type": "code",
   "execution_count": 84,
   "metadata": {},
   "outputs": [],
   "source": [
    "os.makedirs(f'data/REINFORCENeuralAdvantage/{experiment_folder}', exist_ok=True)\n",
    "np.save(f'data/REINFORCENeuralAdvantage/{experiment_folder}/final_budget_queue-{int(n_episodes/1000)}k.npy', np.array(final_budget_queue))"
   ]
  },
  {
   "cell_type": "markdown",
   "metadata": {},
   "source": [
    "# Montecarlo VFA"
   ]
  },
  {
   "cell_type": "code",
   "execution_count": null,
   "metadata": {},
   "outputs": [],
   "source": [
    "nenv = gym.wrappers.RecordEpisodeStatistics(env, deque_size=n_episodes)\n",
    "final_budget_queue = []\n",
    "for episode in tqdm(range(n_episodes)):\n",
    "    MC_vfa_agent.update(episode_number=episode)\n",
    "    MC_vfa_agent.decay_epsilon()\n",
    "    final_budget_queue.append(nenv.unwrapped.budget)"
   ]
  },
  {
   "cell_type": "markdown",
   "metadata": {},
   "source": [
    "Statistics evaluation"
   ]
  },
  {
   "cell_type": "code",
   "execution_count": null,
   "metadata": {},
   "outputs": [],
   "source": [
    "w = 1000\n",
    "# rewards = conv(np.array(nenv.return_queue).flatten(), win=w)\n",
    "# lengths = conv(np.array(nenv.length_queue).flatten(), win=w)\n",
    "error = conv(np.array(MC_vfa_agent.training_error).flatten(), win=w)\n",
    "final_budgets = conv(np.array(final_budget_queue), win=w)"
   ]
  },
  {
   "cell_type": "code",
   "execution_count": null,
   "metadata": {},
   "outputs": [],
   "source": [
    "len(error), len(final_budgets)"
   ]
  },
  {
   "cell_type": "code",
   "execution_count": null,
   "metadata": {},
   "outputs": [],
   "source": [
    "fig, ax = plt.subplots(figsize=(12, 4), ncols=2)\n",
    "sns.lineplot(x=range(len(np.array(MC_vfa_agent.training_error).flatten())), y=np.array(MC_vfa_agent.training_error).flatten(), ax=ax[0], c='#acc700', linewidth=.2)\n",
    "ax[0].set_title('Error')\n",
    "sns.lineplot(x=range(len(final_budget_queue)), y=final_budget_queue, ax=ax[1], c='#acc700', linewidth=.2)\n",
    "ax[1].set_title('Final budget')\n",
    "plt.tight_layout()\n",
    "plt.show()"
   ]
  },
  {
   "cell_type": "code",
   "execution_count": null,
   "metadata": {},
   "outputs": [],
   "source": [
    "fig, ax = plt.subplots(figsize=(12, 4), ncols=2)\n",
    "sns.lineplot(x=range(len(error)), y=error, ax=ax[0], c='#acc700', linewidth=.2)\n",
    "ax[0].set_title('Error')\n",
    "sns.lineplot(x=range(len(final_budgets)), y=final_budgets, ax=ax[1], c='#acc700', linewidth=.2)\n",
    "ax[1].set_title('Final budget')\n",
    "plt.tight_layout()\n",
    "plt.show()"
   ]
  },
  {
   "cell_type": "code",
   "execution_count": null,
   "metadata": {},
   "outputs": [],
   "source": [
    "MC_vfa_agent.w"
   ]
  },
  {
   "cell_type": "code",
   "execution_count": null,
   "metadata": {},
   "outputs": [],
   "source": [
    "state, info = env.reset()\n",
    "for _ in range(30):\n",
    "    options = env.unwrapped.actions_available\n",
    "    action = MC_vfa_agent.greedy_policy(state)\n",
    "    \n",
    "    s_prime, reward, terminated, truncated, info = env.step(action)\n",
    "    print(f'Action: {action}', f'State: {state}', f'Reward: {round(reward,3)}', f'Terminated: {terminated}', truncated, info)\n",
    "\n",
    "    if terminated or truncated:\n",
    "        print(f'Final state: {s_prime}')\n",
    "        print(\"============End of episode============\")\n",
    "        state, info = env.reset()\n",
    "        break\n",
    "    else:\n",
    "        state = s_prime\n",
    "env.close()"
   ]
  },
  {
   "cell_type": "code",
   "execution_count": null,
   "metadata": {},
   "outputs": [],
   "source": [
    "experiment_folder = 'gaussian_delta-nowoolcost-15woolprice-200k'\n",
    "os.makedirs(f'data/MCVFA/{experiment_folder}', exist_ok=True)\n",
    "\n",
    "np.save(f'data/MCVFA/{experiment_folder}/weights.npy', MC_vfa_agent.w.detach().numpy())\n",
    "np.save(f'data/MCVFA/{experiment_folder}/final_budget_queue.npy', np.array(final_budget_queue))\n",
    "np.save(f'data/MCVFA/{experiment_folder}/training_error.npy', np.array(MC_vfa_agent.training_error).flatten())\n",
    "# Split the 15M training error records in two chunks not to exceed GitHub limit of 100MB per file\n",
    "# np.save('data/MCVFA/training_error_0k-750k.npy', MC_vfa_agent.training_error[: len(MC_vfa_agent.training_error) // 2])\n",
    "# np.save('data/MCVFA/training_error_750k-1.5M.npy', MC_vfa_agent.training_error[len(MC_vfa_agent.training_error) // 2 : ])"
   ]
  },
  {
   "cell_type": "markdown",
   "metadata": {},
   "source": [
    "# SARSA VFA"
   ]
  },
  {
   "cell_type": "code",
   "execution_count": null,
   "metadata": {},
   "outputs": [],
   "source": [
    "nenv = gym.wrappers.RecordEpisodeStatistics(env, deque_size=n_episodes)\n",
    "final_budget_queue = []\n",
    "for episode in tqdm(range(n_episodes)):\n",
    "    state, info = nenv.reset()\n",
    "    done = False\n",
    "    while not done:\n",
    "        action = SARSA_vfa_agent.policy(state)\n",
    "        # print(action)\n",
    "        s_prime, reward, terminated, truncated, info = nenv.step(action=action)\n",
    "        # update\n",
    "        SARSA_vfa_agent.update(state, action, reward, s_prime)\n",
    "        done = terminated or truncated\n",
    "        state = s_prime\n",
    "    SARSA_vfa_agent.decay_epsilon()\n",
    "    final_budget_queue.append(nenv.unwrapped.budget)"
   ]
  },
  {
   "cell_type": "markdown",
   "metadata": {},
   "source": [
    "Statistics evaluation"
   ]
  },
  {
   "cell_type": "code",
   "execution_count": null,
   "metadata": {},
   "outputs": [],
   "source": [
    "w = 100\n",
    "rewards = conv(np.array(nenv.return_queue).flatten(), win=w)\n",
    "lengths = conv(np.array(nenv.length_queue).flatten(), win=w)\n",
    "error = conv(np.array(SARSA_vfa_agent.training_error).flatten(), win=w)\n",
    "final_budgets = conv(np.array(final_budget_queue), win=w)"
   ]
  },
  {
   "cell_type": "code",
   "execution_count": null,
   "metadata": {},
   "outputs": [],
   "source": [
    "len(rewards),len(lengths),len(SARSA_vfa_agent.training_error)"
   ]
  },
  {
   "cell_type": "code",
   "execution_count": null,
   "metadata": {},
   "outputs": [],
   "source": [
    "fig, ax = plt.subplots(figsize=(16, 4), ncols=4)\n",
    "ax[0].plot(range(len(nenv.return_queue)), nenv.return_queue, c='#acc700', linewidth=.4)\n",
    "ax[0].set_title('Reward (Average)')\n",
    "ax[1].plot(range(len(nenv.length_queue)), nenv.length_queue, c='#acc700', linewidth=.8)\n",
    "ax[1].set_title('Episode Length')\n",
    "ax[2].plot(range(len(SARSA_vfa_agent.training_error)), SARSA_vfa_agent.training_error, c='#acc700', linewidth=.2)\n",
    "ax[2].set_title('Error')\n",
    "ax[3].plot(range(len(final_budget_queue)), final_budget_queue, c='#acc700', linewidth=.2)\n",
    "ax[3].set_title('Final budget')\n",
    "plt.tight_layout()\n",
    "plt.show()"
   ]
  },
  {
   "cell_type": "code",
   "execution_count": null,
   "metadata": {},
   "outputs": [],
   "source": [
    "fig, ax = plt.subplots(figsize=(16, 4), ncols=4)\n",
    "sns.lineplot(x=range(len(rewards)), y=rewards, ax=ax[0], c='#acc700', linewidth=.4)\n",
    "ax[0].set_title('Reward (Average)')\n",
    "sns.lineplot(x=range(len(lengths)), y=lengths, ax=ax[1], c='#acc700', linewidth=.4)\n",
    "ax[1].set_title('Episode Length')\n",
    "sns.lineplot(x=range(len(error)), y=error, ax=ax[2], c='#acc700', linewidth=.2)\n",
    "ax[2].set_title('Error')\n",
    "sns.lineplot(x=range(len(final_budgets)), y=final_budgets, ax=ax[3], c='#acc700', linewidth=.2)\n",
    "ax[3].set_title('Final budget')\n",
    "plt.tight_layout()\n",
    "plt.show()"
   ]
  },
  {
   "cell_type": "code",
   "execution_count": null,
   "metadata": {},
   "outputs": [],
   "source": [
    "SARSA_vfa_agent.w"
   ]
  }
 ],
 "metadata": {
  "kernelspec": {
   "display_name": "manage-a-farm-mRYmmniZ-py3.11",
   "language": "python",
   "name": "python3"
  },
  "language_info": {
   "codemirror_mode": {
    "name": "ipython",
    "version": 3
   },
   "file_extension": ".py",
   "mimetype": "text/x-python",
   "name": "python",
   "nbconvert_exporter": "python",
   "pygments_lexer": "ipython3",
   "version": "3.11.5"
  }
 },
 "nbformat": 4,
 "nbformat_minor": 2
}
