{
 "cells": [
  {
   "cell_type": "code",
   "execution_count": null,
   "metadata": {},
   "outputs": [],
   "source": [
    "import gymnasium as gym\n",
    "import source.config as config\n",
    "from source.algorithms import FarmAgentNeuralREINFORCEAdvantage\n",
    "import source.farm_env # Import necessary to register the gym environment"
   ]
  },
  {
   "cell_type": "code",
   "execution_count": null,
   "metadata": {},
   "outputs": [],
   "source": [
    "env = gym.make(id='FarmEnv-v0',\n",
    "                initial_budget = config.INITIAL_BUDGET,\n",
    "                sheep_cost = config.SHEEP_COST,\n",
    "                wheat_cost = config.WHEAT_COST,\n",
    "                wool_price = config.WOOL_PRICE,\n",
    "                wheat_price = config.WHEAT_PRICE,\n",
    "                max_years = config.MAX_YEARS,\n",
    "                wool_fixed_cost = config.WOOL_FIXED_COST,\n",
    "                storm_probability = config.STORM_PROBABILITY,\n",
    "                incest_penalty = config.INCEST_PENALTY,\n",
    "                reward_std = config.SIGMA\n",
    "                )"
   ]
  },
  {
   "cell_type": "code",
   "execution_count": null,
   "metadata": {},
   "outputs": [],
   "source": [
    "learning_rate = 0.001\n",
    "policy_learning_rate = 1e-4\n",
    "value_learning_rate = 1e-4\n",
    "n_episodes = 500_000\n",
    "start_epsilon = 1.0\n",
    "epsilon_decay = start_epsilon / (n_episodes)  # reduce the exploration over time\n",
    "final_epsilon = 0.1\n",
    "\n",
    "REINFORCE_agent = FarmAgentNeuralREINFORCEAdvantage(\n",
    "    environment=env, policy_learning_rate=policy_learning_rate, value_learning_rate=value_learning_rate, epsilon=start_epsilon, epsilon_decay=epsilon_decay, final_epsilon=final_epsilon, gamma=.999,\n",
    "    policy_net_weights_path='agent_models/REINFORCENeuralAdvantage/s6-penalty2.5-edecay1-g0.999/policy_net_weights-500k.pth',\n",
    "    value_net_weights_path='agent_models//REINFORCENeuralAdvantage/s6-penalty2.5-edecay1-g0.999/value_net_weights-500k.pth'\n",
    ")"
   ]
  },
  {
   "cell_type": "code",
   "execution_count": null,
   "metadata": {},
   "outputs": [],
   "source": [
    "state, info = env.reset()\n",
    "for _ in range(30):\n",
    "    options = env.unwrapped.actions_available\n",
    "    action = REINFORCE_agent.policy(state, greedy=True)\n",
    "    \n",
    "    s_prime, reward, terminated, truncated, info = env.step(action)\n",
    "    print(f'Action: {action}', f'State: {state}', f'Reward: {round(reward,3)}', f'Terminated: {terminated}', truncated, info)\n",
    "\n",
    "    if terminated or truncated:\n",
    "        print(f'Final state: {s_prime}')\n",
    "        print(\"============End of episode============\")\n",
    "        state, info = env.reset()\n",
    "        break\n",
    "    else:\n",
    "        state = s_prime\n",
    "env.close()"
   ]
  }
 ],
 "metadata": {
  "kernelspec": {
   "display_name": "manage-a-farm-jQWtjN-A-py3.11",
   "language": "python",
   "name": "python3"
  },
  "language_info": {
   "codemirror_mode": {
    "name": "ipython",
    "version": 3
   },
   "file_extension": ".py",
   "mimetype": "text/x-python",
   "name": "python",
   "nbconvert_exporter": "python",
   "pygments_lexer": "ipython3",
   "version": "3.11.5"
  }
 },
 "nbformat": 4,
 "nbformat_minor": 2
}
